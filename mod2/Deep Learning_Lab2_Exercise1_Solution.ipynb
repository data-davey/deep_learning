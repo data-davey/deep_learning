{
 "nbformat": 4,
 "nbformat_minor": 0,
 "metadata": {
  "colab": {
   "provenance": [
    {
     "file_id": "1HdE5OijBx8CtCSiqXBsQPqkPfoPv9_9I",
     "timestamp": 1725873628539
    },
    {
     "file_id": "1zvXuxFXF7eCGIAZtDzKVACamXZXsH7Pk",
     "timestamp": 1708211147255
    }
   ]
  },
  "kernelspec": {
   "name": "python3",
   "display_name": "Python 3 (ipykernel)",
   "language": "python"
  },
  "language_info": {
   "name": "python"
  }
 },
 "cells": [
  {
   "cell_type": "markdown",
   "source": [
    "# Analysing Structured Data with Pytorch\n",
    "### *Introduction to Pytorch*\n",
    "\n",
    "---\n",
    "\n",
    "\n",
    "During the first and second lectures, you have been introduced to traditional Neural Networks and its essential constituents (neuron, weights and bias, activation function, loss function, optimizer, regularizer...). In this lab, we will see how we can **build our own multi-layer perceptrons** for processing **structured data** with **Pytorch**.\n",
    "\n",
    "By the end of this lab, you will be able to:\n",
    "- import the relevant classes from PyTorch for creating a sequential model\n",
    "- prepare the dataset for modeling\n",
    "- design the architecture of a custom multi-layer perceptron with fully connected layer, dropout, optimizer.\n",
    "- choose the relevant loss function and activation functions for your data\n",
    "- print the summary of your model\n",
    "- train and evaluate the performance of your model\n",
    "- print relevant graphs for assessing the training of your model\n",
    "\n",
    "In this lab, we will be working only on structured data for supervised learning:\n",
    "\n",
    "1. Regression: Iris\n",
    "2. Multi-class classification: MNIST\n",
    "3. Binary classification: German Credit Approval\n",
    "\n",
    "\n",
    "Let's get started!"
   ],
   "metadata": {
    "id": "WZD2JJnlUzNm"
   }
  },
  {
   "cell_type": "markdown",
   "source": [
    "# Predicting class of iris plant (regression)\n",
    "\n",
    "## Dataset\n",
    "\n",
    "The dataset we will be using is the famous iris.\n",
    "\n",
    "This is a small classic dataset from Fisher, 1936. Among the early datasets that have been used to test classification algorithms.\n",
    "\n",
    "There are three classes in the data set, each with fifty occurrences, and each class represents a certain kind of iris plant (Setosa, Versicolour, and Virginica).\n",
    "\n",
    "The detail information about the data set can be found in UCI Machine Learning Repository (https://archive.ics.uci.edu/dataset/53/iris)\n",
    "\n",
    "This dataset is available here: https://gist.githubusercontent.com/netj/8836201/raw/6f9306ad21398ea43cba4f7d537619d0e07d5ae3/iris.csv\n",
    "\n",
    "## Objective\n",
    "\n",
    "Our goal is to build a Neural Network model that can predict accurately the class of iris plant (Logistic regression task).\n",
    "\n",
    "## Instructions\n",
    "\n",
    "This is a guided exercise where most of the code have already been pre-defined. Your task is to fill the remaining part of the code (it will be highlighted with placehoders) to train and evaluate your model.\n",
    "\n",
    "This exercise is split in several parts:\n",
    "1.   Loading and Exploration of the Dataset\n",
    "2.   Preparing the Dataset\n",
    "3.   Defining the Architecture of the Multi-Layer Perceptron\n",
    "4.   Training and Evaluation of the Model\n",
    "5.   Analysing the Results\n"
   ],
   "metadata": {
    "id": "kYcHeiqiXGc-"
   }
  },
  {
   "cell_type": "markdown",
   "source": [
    "### 1. Loading and Exploration of the Dataset"
   ],
   "metadata": {
    "id": "3EnfwxNOa9Am"
   }
  },
  {
   "cell_type": "markdown",
   "source": [
    "**[1.1]** First we need to import the relevant class of PyTorch"
   ],
   "metadata": {
    "id": "EuT_ayW-bNXJ"
   }
  },
  {
   "cell_type": "code",
   "source": [
    "# Placeholder for student's code"
   ],
   "metadata": {
    "id": "iTwhQnYyvw2c"
   },
   "outputs": [],
   "execution_count": null
  },
  {
   "cell_type": "code",
   "source": [
    "# Solution\n",
    "import torch\n",
    "from sklearn.datasets import load_iris\n",
    "from sklearn.model_selection import train_test_split\n",
    "from sklearn.preprocessing import StandardScaler\n",
    "#im"
   ],
   "metadata": {
    "id": "Q__zqsO0U0P3",
    "executionInfo": {
     "status": "ok",
     "timestamp": 1740470812289,
     "user_tz": -660,
     "elapsed": 13628,
     "user": {
      "displayName": "Patrick Broderick",
      "userId": "14072166434968447234"
     }
    },
    "ExecuteTime": {
     "end_time": "2025-02-25T08:42:43.923155Z",
     "start_time": "2025-02-25T08:42:08.756968Z"
    }
   },
   "outputs": [],
   "execution_count": 1
  },
  {
   "cell_type": "markdown",
   "source": [
    "**[1.2]**\n",
    "Then we will load the dataset and save the `data` and `target` into two different variables named `X` and `y`."
   ],
   "metadata": {
    "id": "aSa1jUR5bsfW"
   }
  },
  {
   "cell_type": "code",
   "source": [
    "# Placeholder for student's code\n",
    "iris = load_iris()"
   ],
   "metadata": {
    "id": "L7r869B-vx-c",
    "executionInfo": {
     "status": "ok",
     "timestamp": 1740470832182,
     "user_tz": -660,
     "elapsed": 14,
     "user": {
      "displayName": "Patrick Broderick",
      "userId": "14072166434968447234"
     }
    },
    "ExecuteTime": {
     "end_time": "2025-02-25T08:42:46.903197Z",
     "start_time": "2025-02-25T08:42:46.897401Z"
    }
   },
   "outputs": [],
   "execution_count": 2
  },
  {
   "cell_type": "code",
   "source": [
    "import pandas as pd\n",
    "df = pd.DataFrame(iris.data, columns=iris.feature_names)\n",
    "df['target'] = iris.target\n",
    "df.head()"
   ],
   "metadata": {
    "colab": {
     "base_uri": "https://localhost:8080/",
     "height": 204
    },
    "id": "oPKb8IazJXd8",
    "executionInfo": {
     "status": "ok",
     "timestamp": 1740470992820,
     "user_tz": -660,
     "elapsed": 56,
     "user": {
      "displayName": "Patrick Broderick",
      "userId": "14072166434968447234"
     }
    },
    "outputId": "fed10b5c-e535-4afb-9fdd-a091428d3359",
    "ExecuteTime": {
     "end_time": "2025-02-25T08:42:49.284373Z",
     "start_time": "2025-02-25T08:42:49.267076Z"
    }
   },
   "outputs": [
    {
     "data": {
      "text/plain": [
       "   sepal length (cm)  sepal width (cm)  petal length (cm)  petal width (cm)  \\\n",
       "0                5.1               3.5                1.4               0.2   \n",
       "1                4.9               3.0                1.4               0.2   \n",
       "2                4.7               3.2                1.3               0.2   \n",
       "3                4.6               3.1                1.5               0.2   \n",
       "4                5.0               3.6                1.4               0.2   \n",
       "\n",
       "   target  \n",
       "0       0  \n",
       "1       0  \n",
       "2       0  \n",
       "3       0  \n",
       "4       0  "
      ],
      "text/html": [
       "<div>\n",
       "<style scoped>\n",
       "    .dataframe tbody tr th:only-of-type {\n",
       "        vertical-align: middle;\n",
       "    }\n",
       "\n",
       "    .dataframe tbody tr th {\n",
       "        vertical-align: top;\n",
       "    }\n",
       "\n",
       "    .dataframe thead th {\n",
       "        text-align: right;\n",
       "    }\n",
       "</style>\n",
       "<table border=\"1\" class=\"dataframe\">\n",
       "  <thead>\n",
       "    <tr style=\"text-align: right;\">\n",
       "      <th></th>\n",
       "      <th>sepal length (cm)</th>\n",
       "      <th>sepal width (cm)</th>\n",
       "      <th>petal length (cm)</th>\n",
       "      <th>petal width (cm)</th>\n",
       "      <th>target</th>\n",
       "    </tr>\n",
       "  </thead>\n",
       "  <tbody>\n",
       "    <tr>\n",
       "      <th>0</th>\n",
       "      <td>5.1</td>\n",
       "      <td>3.5</td>\n",
       "      <td>1.4</td>\n",
       "      <td>0.2</td>\n",
       "      <td>0</td>\n",
       "    </tr>\n",
       "    <tr>\n",
       "      <th>1</th>\n",
       "      <td>4.9</td>\n",
       "      <td>3.0</td>\n",
       "      <td>1.4</td>\n",
       "      <td>0.2</td>\n",
       "      <td>0</td>\n",
       "    </tr>\n",
       "    <tr>\n",
       "      <th>2</th>\n",
       "      <td>4.7</td>\n",
       "      <td>3.2</td>\n",
       "      <td>1.3</td>\n",
       "      <td>0.2</td>\n",
       "      <td>0</td>\n",
       "    </tr>\n",
       "    <tr>\n",
       "      <th>3</th>\n",
       "      <td>4.6</td>\n",
       "      <td>3.1</td>\n",
       "      <td>1.5</td>\n",
       "      <td>0.2</td>\n",
       "      <td>0</td>\n",
       "    </tr>\n",
       "    <tr>\n",
       "      <th>4</th>\n",
       "      <td>5.0</td>\n",
       "      <td>3.6</td>\n",
       "      <td>1.4</td>\n",
       "      <td>0.2</td>\n",
       "      <td>0</td>\n",
       "    </tr>\n",
       "  </tbody>\n",
       "</table>\n",
       "</div>"
      ]
     },
     "execution_count": 3,
     "metadata": {},
     "output_type": "execute_result"
    }
   ],
   "execution_count": 3
  },
  {
   "cell_type": "code",
   "source": [
    "# Solutionaa\n",
    "\n",
    "X = iris.data\n",
    "y = iris.target"
   ],
   "metadata": {
    "id": "IUIADsRJS5SP",
    "executionInfo": {
     "status": "ok",
     "timestamp": 1740470999009,
     "user_tz": -660,
     "elapsed": 2,
     "user": {
      "displayName": "Patrick Broderick",
      "userId": "14072166434968447234"
     }
    },
    "ExecuteTime": {
     "end_time": "2025-02-25T08:42:55.443435Z",
     "start_time": "2025-02-25T08:42:55.441638Z"
    }
   },
   "outputs": [],
   "execution_count": 4
  },
  {
   "cell_type": "markdown",
   "source": [
    "**[1.3]**\n",
    "Now, we will split the dataset into training and testing sets"
   ],
   "metadata": {
    "id": "_DEND6gLc0Cj"
   }
  },
  {
   "cell_type": "code",
   "source": [
    "# Placeholder for student's code"
   ],
   "metadata": {
    "id": "nMmZYbJwvy4z"
   },
   "outputs": [],
   "execution_count": null
  },
  {
   "cell_type": "code",
   "source": [
    "# Solution\n",
    "X_train, X_test, y_train, y_test = train_test_split(X, y, test_size=0.2, random_state=42)\n"
   ],
   "metadata": {
    "id": "Son0l2yUS5aO",
    "executionInfo": {
     "status": "ok",
     "timestamp": 1740471004470,
     "user_tz": -660,
     "elapsed": 2,
     "user": {
      "displayName": "Patrick Broderick",
      "userId": "14072166434968447234"
     }
    },
    "ExecuteTime": {
     "end_time": "2025-02-25T08:42:57.719639Z",
     "start_time": "2025-02-25T08:42:57.717024Z"
    }
   },
   "outputs": [],
   "execution_count": 5
  },
  {
   "cell_type": "markdown",
   "source": [
    "### 2.   Preparing the Dataset"
   ],
   "metadata": {
    "id": "lISGYIw3dt8p"
   }
  },
  {
   "cell_type": "markdown",
   "source": [
    "**[2.1]**\n",
    "We will need to standardize both the features for the training and testing sets by importing StandardScalar from sklearn.preprocessing"
   ],
   "metadata": {
    "id": "_CRpbajwdGsO"
   }
  },
  {
   "cell_type": "code",
   "source": [
    "# Placeholder for student's code"
   ],
   "metadata": {
    "id": "fUVVcAfOvz6x"
   },
   "outputs": [],
   "execution_count": null
  },
  {
   "cell_type": "code",
   "source": [
    "# Solution\n",
    "from sklearn.preprocessing import StandardScaler\n",
    "scaler = StandardScaler()\n",
    "X_train = scaler.fit_transform(X_train)\n",
    "X_test = scaler.transform(X_test)"
   ],
   "metadata": {
    "id": "KwkE5uFcS5d6",
    "executionInfo": {
     "status": "ok",
     "timestamp": 1740471008892,
     "user_tz": -660,
     "elapsed": 2,
     "user": {
      "displayName": "Patrick Broderick",
      "userId": "14072166434968447234"
     }
    },
    "ExecuteTime": {
     "end_time": "2025-02-25T08:43:00.314341Z",
     "start_time": "2025-02-25T08:43:00.311514Z"
    }
   },
   "outputs": [],
   "execution_count": 6
  },
  {
   "cell_type": "markdown",
   "source": [
    "**[2.2]** Let's print the scaled version of the first observation of the training set"
   ],
   "metadata": {
    "id": "61qXhC-Rd3U3"
   }
  },
  {
   "cell_type": "code",
   "source": [
    "# Placeholder for student's code"
   ],
   "metadata": {
    "id": "_8PiQL9wv0x4"
   },
   "outputs": [],
   "execution_count": null
  },
  {
   "cell_type": "code",
   "source": [
    "# Solution\n",
    "print(X_train[0])"
   ],
   "metadata": {
    "colab": {
     "base_uri": "https://localhost:8080/"
    },
    "id": "_lAcmiE4d_Xt",
    "executionInfo": {
     "status": "ok",
     "timestamp": 1740471012812,
     "user_tz": -660,
     "elapsed": 7,
     "user": {
      "displayName": "Patrick Broderick",
      "userId": "14072166434968447234"
     }
    },
    "outputId": "c684c738-b190-4d2e-e22e-dad795257a7e",
    "ExecuteTime": {
     "end_time": "2025-02-25T08:43:02.751158Z",
     "start_time": "2025-02-25T08:43:02.748697Z"
    }
   },
   "outputs": [
    {
     "name": "stdout",
     "output_type": "stream",
     "text": [
      "[-1.47393679  1.20365799 -1.56253475 -1.31260282]\n"
     ]
    }
   ],
   "execution_count": 7
  },
  {
   "cell_type": "markdown",
   "source": [
    "**[2.3]** Let's convert the data to PyTorch tensors"
   ],
   "metadata": {
    "id": "4Q-ABdrieNBE"
   }
  },
  {
   "cell_type": "code",
   "source": [
    "# Placeholder for student's code"
   ],
   "metadata": {
    "id": "-FVX2zE3v1jU"
   },
   "outputs": [],
   "execution_count": null
  },
  {
   "cell_type": "code",
   "source": [
    "# Solution\n",
    "X_train = torch.tensor(X_train, dtype=torch.float32)\n",
    "y_train = torch.tensor(y_train, dtype=torch.long)\n",
    "X_test = torch.tensor(X_test, dtype=torch.float32)\n",
    "y_test = torch.tensor(y_test, dtype=torch.long)"
   ],
   "metadata": {
    "id": "AsdgtnhiS5g0",
    "executionInfo": {
     "status": "ok",
     "timestamp": 1740471058717,
     "user_tz": -660,
     "elapsed": 48,
     "user": {
      "displayName": "Patrick Broderick",
      "userId": "14072166434968447234"
     }
    },
    "ExecuteTime": {
     "end_time": "2025-02-25T08:43:05.702548Z",
     "start_time": "2025-02-25T08:43:05.699485Z"
    }
   },
   "outputs": [],
   "execution_count": 8
  },
  {
   "cell_type": "markdown",
   "source": [
    "### 3.   Defining the Architecture of the Multi-Layer Perceptron"
   ],
   "metadata": {
    "id": "OtAD0tcseu_N"
   }
  },
  {
   "cell_type": "markdown",
   "source": [
    "**[3.1]** Import `torch.nn` as `nn` and `torch.nn.functional` as `F`"
   ],
   "metadata": {
    "id": "lM69XRPYfIp6"
   }
  },
  {
   "cell_type": "code",
   "source": [
    "# Placeholder for student's code"
   ],
   "metadata": {
    "id": "kk5-cS1dv2eW"
   },
   "outputs": [],
   "execution_count": null
  },
  {
   "cell_type": "code",
   "source": [
    "# Solution\n",
    "import torch.nn as nn\n",
    "import torch.nn.functional as F"
   ],
   "metadata": {
    "id": "zrn_mrUAfXuG",
    "ExecuteTime": {
     "end_time": "2025-02-25T08:43:10.532112Z",
     "start_time": "2025-02-25T08:43:10.530281Z"
    }
   },
   "outputs": [],
   "execution_count": 9
  },
  {
   "cell_type": "markdown",
   "source": [
    "**[3.2]** Then we will set the seeds for Pytorch in order to get reproducible results"
   ],
   "metadata": {
    "id": "pZb6bmQngT2w"
   }
  },
  {
   "cell_type": "code",
   "source": [
    "# Placeholder for student's code"
   ],
   "metadata": {
    "id": "OwD2WSVvv3nN"
   },
   "outputs": [],
   "execution_count": null
  },
  {
   "cell_type": "code",
   "source": [
    "# Solution\n",
    "torch.manual_seed(42)"
   ],
   "metadata": {
    "colab": {
     "base_uri": "https://localhost:8080/"
    },
    "id": "K3XsDM0OgWHb",
    "executionInfo": {
     "status": "ok",
     "timestamp": 1740093237348,
     "user_tz": -660,
     "elapsed": 10,
     "user": {
      "displayName": "William S.",
      "userId": "16708966449686968459"
     }
    },
    "outputId": "25c2583c-ad8e-4eea-8d14-01d61334d92f",
    "ExecuteTime": {
     "end_time": "2025-02-25T08:43:14.601824Z",
     "start_time": "2025-02-25T08:43:14.589702Z"
    }
   },
   "outputs": [
    {
     "data": {
      "text/plain": [
       "<torch._C.Generator at 0x106b902d0>"
      ]
     },
     "execution_count": 10,
     "metadata": {},
     "output_type": "execute_result"
    }
   ],
   "execution_count": 10
  },
  {
   "cell_type": "markdown",
   "source": [
    "**[3.3]** Then we will create a variable called `device` that will automatically select a GPU if available. Otherwise it will default to CPU."
   ],
   "metadata": {
    "id": "duCHceevgm3m"
   }
  },
  {
   "cell_type": "code",
   "source": [
    "# Placeholder for student's code"
   ],
   "metadata": {
    "id": "8FG-Dg7vv4oE"
   },
   "outputs": [],
   "execution_count": null
  },
  {
   "cell_type": "code",
   "source": [
    "# Solution\n",
    "device = 'mps' if torch.backends.mps.is_available() else 'cpu'"
   ],
   "metadata": {
    "id": "8TsSzrI-goLc",
    "ExecuteTime": {
     "end_time": "2025-02-25T08:45:46.746938Z",
     "start_time": "2025-02-25T08:45:46.713272Z"
    }
   },
   "outputs": [],
   "execution_count": 12
  },
  {
   "cell_type": "markdown",
   "source": [
    "**[3.4]** Now we will create a variable called `in_hidden_layer` by instanciating a nn.Linear() class with 8 fully connected neurons(i.e. a hidden layer)"
   ],
   "metadata": {
    "id": "STpPrRENgtB1"
   }
  },
  {
   "cell_type": "code",
   "source": [
    "# Placeholder for student's code"
   ],
   "metadata": {
    "id": "XXB5tTGqv5e3"
   },
   "outputs": [],
   "execution_count": null
  },
  {
   "cell_type": "code",
   "source": [
    "# Solution\n",
    "in_hidden_layer = nn.Linear(X_train.shape[1], 8)"
   ],
   "metadata": {
    "id": "nJWJHabhgtSI",
    "ExecuteTime": {
     "end_time": "2025-02-25T08:45:50.376149Z",
     "start_time": "2025-02-25T08:45:50.373654Z"
    }
   },
   "outputs": [],
   "execution_count": 13
  },
  {
   "cell_type": "markdown",
   "source": [
    "**[3.5]** Now we will create a connection of hidden layer of 8 fully connected units to output neuron and save it into a variable called `hidden_out_layer`"
   ],
   "metadata": {
    "id": "g9ecO5c_h0G0"
   }
  },
  {
   "cell_type": "code",
   "source": [
    "# Placeholder for student's code"
   ],
   "metadata": {
    "id": "tvI5JZAev6Vz"
   },
   "outputs": [],
   "execution_count": null
  },
  {
   "cell_type": "code",
   "source": [
    "# Solution\n",
    "hidden_out_layer = nn.Linear(8, 3)"
   ],
   "metadata": {
    "id": "Qs8pVqN2iUk5",
    "ExecuteTime": {
     "end_time": "2025-02-25T08:45:52.903200Z",
     "start_time": "2025-02-25T08:45:52.901121Z"
    }
   },
   "outputs": [],
   "execution_count": 14
  },
  {
   "cell_type": "markdown",
   "source": [
    "**[3.6]** Finally let's stack these layers with a ReLu in between using nn.Sequential() class and save it into a variable called `model`\n"
   ],
   "metadata": {
    "id": "BjzWp-S2is9D"
   }
  },
  {
   "cell_type": "code",
   "source": [
    "# Placeholder for student's code"
   ],
   "metadata": {
    "id": "ZAl26b3Ov7Oc"
   },
   "outputs": [],
   "execution_count": null
  },
  {
   "cell_type": "code",
   "source": [
    "# Solution\n",
    "model = nn.Sequential(\n",
    "    in_hidden_layer,\n",
    "    nn.ReLU(),\n",
    "    hidden_out_layer\n",
    ")"
   ],
   "metadata": {
    "id": "EYGjxO09ix-0",
    "ExecuteTime": {
     "end_time": "2025-02-25T08:45:58.069867Z",
     "start_time": "2025-02-25T08:45:58.068099Z"
    }
   },
   "outputs": [],
   "execution_count": 15
  },
  {
   "cell_type": "markdown",
   "source": [
    "**[3.7]** Set `model` to use the device available"
   ],
   "metadata": {
    "id": "6g7NRnfBjEXj"
   }
  },
  {
   "cell_type": "code",
   "source": [
    "# Placeholder for student's code"
   ],
   "metadata": {
    "id": "_q4r5rIzv8JE"
   },
   "outputs": [],
   "execution_count": null
  },
  {
   "cell_type": "code",
   "source": [
    "# Solution\n",
    "model.to(device)"
   ],
   "metadata": {
    "colab": {
     "base_uri": "https://localhost:8080/"
    },
    "id": "S_r5myHxjEi4",
    "executionInfo": {
     "status": "ok",
     "timestamp": 1740093237621,
     "user_tz": -660,
     "elapsed": 65,
     "user": {
      "displayName": "William S.",
      "userId": "16708966449686968459"
     }
    },
    "outputId": "1390cb66-43bb-4481-fcd9-b145bbbd62b0",
    "ExecuteTime": {
     "end_time": "2025-02-25T08:46:02.497197Z",
     "start_time": "2025-02-25T08:46:02.451436Z"
    }
   },
   "outputs": [
    {
     "data": {
      "text/plain": [
       "Sequential(\n",
       "  (0): Linear(in_features=4, out_features=8, bias=True)\n",
       "  (1): ReLU()\n",
       "  (2): Linear(in_features=8, out_features=3, bias=True)\n",
       ")"
      ]
     },
     "execution_count": 16,
     "metadata": {},
     "output_type": "execute_result"
    }
   ],
   "execution_count": 16
  },
  {
   "cell_type": "markdown",
   "source": [
    "**[3.8]**  Print the architecture of `model`"
   ],
   "metadata": {
    "id": "C5BHD3AvjEzs"
   }
  },
  {
   "cell_type": "code",
   "source": [
    "# Placeholder for student's code"
   ],
   "metadata": {
    "id": "7Pkc8A9lv9Bf"
   },
   "outputs": [],
   "execution_count": null
  },
  {
   "cell_type": "code",
   "source": [
    "# Solution:\n",
    "print(model)"
   ],
   "metadata": {
    "colab": {
     "base_uri": "https://localhost:8080/"
    },
    "id": "X0Cqls2vjE9a",
    "executionInfo": {
     "status": "ok",
     "timestamp": 1740093237700,
     "user_tz": -660,
     "elapsed": 22,
     "user": {
      "displayName": "William S.",
      "userId": "16708966449686968459"
     }
    },
    "outputId": "590901aa-2b2f-4d14-b947-c7133255db83",
    "ExecuteTime": {
     "end_time": "2025-02-25T08:48:04.092885Z",
     "start_time": "2025-02-25T08:48:04.090944Z"
    }
   },
   "outputs": [
    {
     "name": "stdout",
     "output_type": "stream",
     "text": [
      "Sequential(\n",
      "  (0): Linear(in_features=4, out_features=8, bias=True)\n",
      "  (1): ReLU()\n",
      "  (2): Linear(in_features=8, out_features=3, bias=True)\n",
      ")\n"
     ]
    }
   ],
   "execution_count": 17
  },
  {
   "cell_type": "markdown",
   "source": [
    "### 4. Training and Evaluation of the Model"
   ],
   "metadata": {
    "id": "Qcsx5o3yjXZb"
   }
  },
  {
   "cell_type": "markdown",
   "source": [
    "**[4.1]**  Instantiate a `nn.CrossEntropyLoss()` and save it into a variable called `criterion` to measure the error"
   ],
   "metadata": {
    "id": "0NXQXNGljfOh"
   }
  },
  {
   "cell_type": "code",
   "source": [
    "# Placeholder for student's code"
   ],
   "metadata": {
    "id": "hEEv4D_sv-CF"
   },
   "outputs": [],
   "execution_count": null
  },
  {
   "cell_type": "code",
   "source": [
    "# Solution\n",
    "criterion = nn.CrossEntropyLoss()"
   ],
   "metadata": {
    "id": "k4Z2X-afjfaM",
    "ExecuteTime": {
     "end_time": "2025-02-25T08:48:13.584286Z",
     "start_time": "2025-02-25T08:48:13.582538Z"
    }
   },
   "outputs": [],
   "execution_count": 18
  },
  {
   "cell_type": "markdown",
   "source": [
    "**[4.2]**  Instantiate a `torch.optim.Adam()` optimizer with the model's parameters and 0.001 as learning rate and save it into a variable called `optimizer`"
   ],
   "metadata": {
    "id": "tEXN9kShj6ed"
   }
  },
  {
   "cell_type": "code",
   "source": [
    "# Placeholder for student's code"
   ],
   "metadata": {
    "id": "3GfVOuIhv-zv"
   },
   "outputs": [],
   "execution_count": null
  },
  {
   "cell_type": "code",
   "source": [
    "# Solution\n",
    "import torch.optim as optim\n",
    "optimizer = optim.Adam(model.parameters(), lr=0.001)"
   ],
   "metadata": {
    "id": "prv4UBGcj6pP",
    "ExecuteTime": {
     "end_time": "2025-02-25T08:48:19.569397Z",
     "start_time": "2025-02-25T08:48:15.684911Z"
    }
   },
   "outputs": [],
   "execution_count": 19
  },
  {
   "cell_type": "markdown",
   "source": [
    "**[4.3]** **Training:** Now it is finally time to train our model. Create a for loop that will iterate 500 times the following logics:\n",
    "- perform the forward propagation and get the model predictions\n",
    "- calculate the loss between the predictions and the actuals\n",
    "- reset the gradients\n",
    "- perform back propagation\n",
    "- update the weights"
   ],
   "metadata": {
    "id": "2qYQn_2-kL35"
   }
  },
  {
   "cell_type": "code",
   "source": [
    "# Placeholder for student's code\n",
    "X_train = X_train.to(device)\n",
    "y_train = y_train.to(device)\n",
    "X_test = X_test.to(device)\n",
    "y_test = y_test.to(device)"
   ],
   "metadata": {
    "id": "wZ1rcP52v_uA"
   },
   "outputs": [],
   "execution_count": null
  },
  {
   "cell_type": "code",
   "source": [
    "# Solution\n",
    "\n",
    "epochs = 500\n",
    "losses = []\n",
    "for epoch in range(epochs):\n",
    "    outputs = model(X_train) # Forward Propagation and get the model predictions\n",
    "    loss = criterion(outputs, y_train) # Calculate the loss between the predictions and the actuals\n",
    "    losses.append(loss.detach().cpu().numpy()) # Keep track of the losses\n",
    "\n",
    "    optimizer.zero_grad()  # Reset the gradients\n",
    "    loss.backward()  # Back Propagation\n",
    "    optimizer.step() # Update the weights\n",
    "\n",
    "    if (epoch + 1) % 100 == 0:\n",
    "        print(f'Epoch [{epoch+1}/{epochs}], Loss: {loss.item():.4f}')"
   ],
   "metadata": {
    "colab": {
     "base_uri": "https://localhost:8080/"
    },
    "id": "sCloGPQDkMDc",
    "executionInfo": {
     "status": "ok",
     "timestamp": 1740093258695,
     "user_tz": -660,
     "elapsed": 759,
     "user": {
      "displayName": "William S.",
      "userId": "16708966449686968459"
     }
    },
    "outputId": "0460b9e7-5ae5-4e0f-8f56-33ee36dd33b3",
    "ExecuteTime": {
     "end_time": "2025-02-25T08:55:43.346560Z",
     "start_time": "2025-02-25T08:55:42.489247Z"
    }
   },
   "outputs": [
    {
     "name": "stdout",
     "output_type": "stream",
     "text": [
      "Epoch [100/500], Loss: 0.1896\n",
      "Epoch [200/500], Loss: 0.1541\n",
      "Epoch [300/500], Loss: 0.1288\n",
      "Epoch [400/500], Loss: 0.1109\n",
      "Epoch [500/500], Loss: 0.0977\n"
     ]
    }
   ],
   "execution_count": 28
  },
  {
   "cell_type": "markdown",
   "source": [
    "**[4.4]** Testing: We can evaluate the performance of this model on the testing set"
   ],
   "metadata": {
    "id": "YAFiLwR6r0Ra"
   }
  },
  {
   "cell_type": "code",
   "source": [
    "# Placeholder for student's code"
   ],
   "metadata": {
    "id": "RKQ4PZESwA1j"
   },
   "outputs": [],
   "execution_count": null
  },
  {
   "cell_type": "code",
   "source": [
    "# Solution\n",
    "with torch.no_grad(): # disables gradient tracking, faster inference\n",
    "    model.eval()\n",
    "    predictions = model(X_test)\n",
    "    _, predicted_labels = torch.max(predictions, 1)"
   ],
   "metadata": {
    "id": "XSw-ypr1r0bv",
    "ExecuteTime": {
     "end_time": "2025-02-25T08:55:46.247020Z",
     "start_time": "2025-02-25T08:55:46.096154Z"
    }
   },
   "outputs": [],
   "execution_count": 29
  },
  {
   "cell_type": "markdown",
   "source": [
    "[4.5] We can evaluate the accuracy of this model by calling accuracy_score"
   ],
   "metadata": {
    "id": "-faB68VGt6wh"
   }
  },
  {
   "cell_type": "code",
   "source": [
    "# Placeholder for student's code"
   ],
   "metadata": {
    "id": "HXVNsc9awBkN"
   },
   "outputs": [],
   "execution_count": null
  },
  {
   "cell_type": "code",
   "source": [
    "# Solution\n",
    "from sklearn.metrics import accuracy_score\n",
    "accuracy = accuracy_score(y_test.cpu().numpy(), predicted_labels.cpu().numpy())\n",
    "print(f'Test Accuracy: {accuracy:.4f}')"
   ],
   "metadata": {
    "colab": {
     "base_uri": "https://localhost:8080/"
    },
    "id": "YbVPIN45t68w",
    "executionInfo": {
     "status": "ok",
     "timestamp": 1740093258811,
     "user_tz": -660,
     "elapsed": 71,
     "user": {
      "displayName": "William S.",
      "userId": "16708966449686968459"
     }
    },
    "outputId": "39c61a59-6881-4472-ecfe-4c34c775ff93",
    "ExecuteTime": {
     "end_time": "2025-02-25T08:56:10.235067Z",
     "start_time": "2025-02-25T08:56:10.231312Z"
    }
   },
   "outputs": [
    {
     "name": "stdout",
     "output_type": "stream",
     "text": [
      "Test Accuracy: 1.0000\n"
     ]
    }
   ],
   "execution_count": 32
  },
  {
   "cell_type": "markdown",
   "source": [
    "### 5. Analysing the Results"
   ],
   "metadata": {
    "id": "mIsZ2KT-sfDx"
   }
  },
  {
   "cell_type": "markdown",
   "source": [
    "**[5.1]** Now we will import the packages of pandas and matplotlib to polt the loss/error"
   ],
   "metadata": {
    "id": "aQSMberOtD9-"
   }
  },
  {
   "cell_type": "code",
   "source": [
    "# Placeholder for student's code"
   ],
   "metadata": {
    "id": "peXnuf65wCgS"
   },
   "outputs": [],
   "execution_count": null
  },
  {
   "cell_type": "code",
   "source": [
    "# Solution\n",
    "import pandas as pd\n",
    "import matplotlib.pyplot as plt\n",
    "%matplotlib inline"
   ],
   "metadata": {
    "id": "WG4ZmpRrtEG5",
    "ExecuteTime": {
     "end_time": "2025-02-25T08:56:22.938919Z",
     "start_time": "2025-02-25T08:56:20.974089Z"
    }
   },
   "outputs": [],
   "execution_count": 33
  },
  {
   "cell_type": "markdown",
   "source": [
    "**[5.2]** Plot the loss where `ylabel` is loss/error and `xlabel` is Epoch"
   ],
   "metadata": {
    "id": "kwzRSkuctW5P"
   }
  },
  {
   "cell_type": "code",
   "source": [
    "# Placeholder for student's code"
   ],
   "metadata": {
    "id": "Ny-oI_prwDTs"
   },
   "outputs": [],
   "execution_count": null
  },
  {
   "cell_type": "code",
   "source": [
    "# Solution\n",
    "plt.plot(range(epochs), losses)\n",
    "plt.ylabel(\"loss/error\")\n",
    "plt.xlabel('Epoch')"
   ],
   "metadata": {
    "colab": {
     "base_uri": "https://localhost:8080/",
     "height": 471
    },
    "id": "7crPzbK6tXE_",
    "executionInfo": {
     "status": "ok",
     "timestamp": 1740093259139,
     "user_tz": -660,
     "elapsed": 328,
     "user": {
      "displayName": "William S.",
      "userId": "16708966449686968459"
     }
    },
    "outputId": "f63a4d1e-0258-4c67-f898-7ac333fac91f",
    "ExecuteTime": {
     "end_time": "2025-02-25T08:56:25.493346Z",
     "start_time": "2025-02-25T08:56:25.254395Z"
    }
   },
   "outputs": [
    {
     "data": {
      "text/plain": [
       "Text(0.5, 0, 'Epoch')"
      ]
     },
     "execution_count": 34,
     "metadata": {},
     "output_type": "execute_result"
    },
    {
     "data": {
      "text/plain": [
       "<Figure size 640x480 with 1 Axes>"
      ],
      "image/png": "[encoded data removed]"
     },
     "metadata": {},
     "output_type": "display_data"
    }
   ],
   "execution_count": 34
  }
 ]
}
