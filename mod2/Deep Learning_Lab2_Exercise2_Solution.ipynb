{
 "nbformat": 4,
 "nbformat_minor": 0,
 "metadata": {
  "colab": {
   "provenance": [
    {
     "file_id": "1iYloBODmTBp29aTqyMkiCgILAUAJG3nx",
     "timestamp": 1725873635443
    }
   ]
  },
  "kernelspec": {
   "name": "python3",
   "display_name": "Python 3 (ipykernel)",
   "language": "python"
  },
  "language_info": {
   "name": "python"
  }
 },
 "cells": [
  {
   "cell_type": "markdown",
   "source": [
    "# **Analysing Structured Data with PyTorch**\n",
    "\n",
    "Introduction to Pytorch for image dataset\n",
    "_____________________________________________\n",
    "# **Predicting Hand-Written Digits (multi-class classification)**\n",
    "\n",
    "# **Dataset**\n",
    "\n",
    "The dataset we will be using is the famous MNIST.\n",
    "\n",
    "The data was originally published by Professor Dr. Hans Hofmann Institut f\"ur Statistik und \"Okonometrie Universit\"at Hamburg FB Wirtschaftswissenschaften Von-Melle-Park 5 2000 Hamburg 13\n",
    "\n",
    "Each observation is an black and white image of size 28 by 28 representing a single hand-written digit.\n",
    "\n",
    "This dataset is avalaible from Kaggle: MNIST\n",
    "\n",
    "# **Objective**\n",
    "\n",
    "Our goal is to build a Neural Network model that can predict accurately the hand-written digit from an image.\n",
    "\n",
    "# **Instructions**\n",
    "\n",
    "This is a guided exercise where some of the code have already been pre-defined. Your task is to fill the remaining part of the code (it will be highlighted with placehoders) to train and evaluate your model.\n",
    "\n",
    "This exercise is split in several parts:\n",
    "\n",
    "1. Loading and Exploration of the Dataset\n",
    "2. Preparing the Dataset\n",
    "3. Defining the Architecture of the Multi-Layer Perceptron\n",
    "4. Training and Evaluation of the Model\n",
    "5. Analysing the Results"
   ],
   "metadata": {
    "id": "Nv1Z9wasDcS6"
   }
  },
  {
   "cell_type": "markdown",
   "source": [
    "## Exercise 2 (to be completed in 20 minutes)"
   ],
   "metadata": {
    "id": "8iWivZczGjys"
   }
  },
  {
   "cell_type": "markdown",
   "source": [
    "### 1. Loading and Exploration of the Dataset"
   ],
   "metadata": {
    "id": "QbNl5cQzGso5"
   }
  },
  {
   "cell_type": "markdown",
   "source": [
    "**[1.1]** First we need to import the relevant class and libraries that contains the dataset from PyTorch"
   ],
   "metadata": {
    "id": "ON4JHOAOG2Zt"
   }
  },
  {
   "cell_type": "code",
   "source": [
    "# Placeholder for student's code"
   ],
   "metadata": {
    "id": "cRXzHeJ04OF0",
    "executionInfo": {
     "status": "ok",
     "timestamp": 1740093226987,
     "user_tz": -660,
     "elapsed": 11,
     "user": {
      "displayName": "William S.",
      "userId": "16708966449686968459"
     }
    }
   },
   "outputs": [],
   "execution_count": null
  },
  {
   "cell_type": "code",
   "metadata": {
    "id": "4UDLX6qOBcez",
    "executionInfo": {
     "status": "ok",
     "timestamp": 1740093255097,
     "user_tz": -660,
     "elapsed": 28111,
     "user": {
      "displayName": "William S.",
      "userId": "16708966449686968459"
     }
    },
    "ExecuteTime": {
     "end_time": "2025-02-25T09:05:10.344123Z",
     "start_time": "2025-02-25T09:05:07.186038Z"
    }
   },
   "source": [
    "# Solution\n",
    "import torch\n",
    "import torchvision\n",
    "from torch.utils.data import DataLoader\n",
    "from torchvision import datasets, transforms\n",
    "from torchvision.datasets import MNIST\n",
    "from torchvision.transforms import Compose, ToTensor, Lambda"
   ],
   "outputs": [],
   "execution_count": 1
  },
  {
   "cell_type": "markdown",
   "source": [
    "**[1.2]** Look at the version of torchvision"
   ],
   "metadata": {
    "id": "4UXvrkSWH1Ki"
   }
  },
  {
   "cell_type": "code",
   "source": [
    "# Placeholder for student's code"
   ],
   "metadata": {
    "id": "HFcVQk4d4QWo",
    "executionInfo": {
     "status": "ok",
     "timestamp": 1740093255099,
     "user_tz": -660,
     "elapsed": 0,
     "user": {
      "displayName": "William S.",
      "userId": "16708966449686968459"
     }
    }
   },
   "outputs": [],
   "execution_count": null
  },
  {
   "metadata": {
    "colab": {
     "base_uri": "https://localhost:8080/",
     "height": 35
    },
    "id": "PSKJJKA_IITf",
    "executionInfo": {
     "status": "ok",
     "timestamp": 1740093255103,
     "user_tz": -660,
     "elapsed": 3,
     "user": {
      "displayName": "William S.",
      "userId": "16708966449686968459"
     }
    },
    "outputId": "c0119e36-9e2a-4289-82e1-745253ec7cd1",
    "ExecuteTime": {
     "end_time": "2025-02-25T09:05:12.749087Z",
     "start_time": "2025-02-25T09:05:12.745467Z"
    }
   },
   "cell_type": "code",
   "source": [
    "# Solution\n",
    "torchvision.__version__"
   ],
   "outputs": [
    {
     "data": {
      "text/plain": [
       "'0.21.0'"
      ]
     },
     "execution_count": 2,
     "metadata": {},
     "output_type": "execute_result"
    }
   ],
   "execution_count": 2
  },
  {
   "cell_type": "markdown",
   "source": [
    "**[1.3]** Apply transformation using compose class. Set the image view parameter in Lambda function as 784. The MNIST (Modified National Institute of Standards and Technology) data consists of 60,000 training images and 10,000 test images. Each image is a 28 x 28 (784 pixels) handwritten digit from \"0\" to \"9.\""
   ],
   "metadata": {
    "id": "ptFUzP6hMIgD"
   }
  },
  {
   "cell_type": "code",
   "source": [
    "# Placeholder for student's code"
   ],
   "metadata": {
    "id": "G9u1iGz04R1V",
    "executionInfo": {
     "status": "ok",
     "timestamp": 1740093255116,
     "user_tz": -660,
     "elapsed": 13,
     "user": {
      "displayName": "William S.",
      "userId": "16708966449686968459"
     }
    }
   },
   "outputs": [],
   "execution_count": null
  },
  {
   "cell_type": "code",
   "source": [
    "# Solution\n",
    "transform = Compose([\n",
    "        ToTensor(),\n",
    "        Lambda(lambda image: image.view(784))\n",
    "])"
   ],
   "metadata": {
    "id": "ZfH37ORlMV2h",
    "executionInfo": {
     "status": "ok",
     "timestamp": 1740093255117,
     "user_tz": -660,
     "elapsed": 1,
     "user": {
      "displayName": "William S.",
      "userId": "16708966449686968459"
     }
    },
    "ExecuteTime": {
     "end_time": "2025-02-25T09:05:16.791842Z",
     "start_time": "2025-02-25T09:05:16.789744Z"
    }
   },
   "outputs": [],
   "execution_count": 3
  },
  {
   "cell_type": "markdown",
   "source": [
    "**[1.4]** Then we will load the dataset and save the different sets into separate variables: data_train, data_test"
   ],
   "metadata": {
    "id": "6K8I5IMKV5LA"
   }
  },
  {
   "cell_type": "code",
   "source": [
    "# Placeholder for student's code"
   ],
   "metadata": {
    "id": "KuV4H2wJ4T9Y",
    "executionInfo": {
     "status": "ok",
     "timestamp": 1740093255132,
     "user_tz": -660,
     "elapsed": 1,
     "user": {
      "displayName": "William S.",
      "userId": "16708966449686968459"
     }
    }
   },
   "outputs": [],
   "execution_count": null
  },
  {
   "cell_type": "code",
   "source": [
    "# Solution\n",
    "data_train = MNIST (root = \"./\", download = True, train = True, transform = transform)\n",
    "data_test = MNIST (root = \"./\", download = True, train = False, transform = transform)"
   ],
   "metadata": {
    "id": "KUahNg8OWQ9c",
    "executionInfo": {
     "status": "ok",
     "timestamp": 1740093257153,
     "user_tz": -660,
     "elapsed": 2010,
     "user": {
      "displayName": "William S.",
      "userId": "16708966449686968459"
     }
    },
    "colab": {
     "base_uri": "https://localhost:8080/"
    },
    "outputId": "1489afa4-c693-4ea9-f8b6-4aefe8a083e0",
    "ExecuteTime": {
     "end_time": "2025-02-25T09:05:36.847734Z",
     "start_time": "2025-02-25T09:05:20.961139Z"
    }
   },
   "outputs": [
    {
     "name": "stderr",
     "output_type": "stream",
     "text": [
      "100.0%\n",
      "100.0%\n",
      "100.0%\n",
      "100.0%\n"
     ]
    }
   ],
   "execution_count": 4
  },
  {
   "cell_type": "markdown",
   "source": [
    "### 2.   Preparing the Dataset"
   ],
   "metadata": {
    "id": "5Rx37fjabks2"
   }
  },
  {
   "cell_type": "markdown",
   "source": [
    "[2.1] We already prepared the dataset in section 1.3 by introducing lambda function. Now, lets have a look at the maximum value and minimum value of data train[0][0]."
   ],
   "metadata": {
    "id": "xC1vlFGob3t_"
   }
  },
  {
   "cell_type": "code",
   "source": [
    "# Placeholder for student's code"
   ],
   "metadata": {
    "id": "GbeojUF44bpg",
    "executionInfo": {
     "status": "ok",
     "timestamp": 1740093257167,
     "user_tz": -660,
     "elapsed": 15,
     "user": {
      "displayName": "William S.",
      "userId": "16708966449686968459"
     }
    }
   },
   "outputs": [],
   "execution_count": null
  },
  {
   "cell_type": "code",
   "source": [
    "# Solution\n",
    "print(data_train[0][0].min())\n",
    "print(data_train[0][0].max())\n",
    "print(data_test[0][0].min())\n",
    "print(data_test[0][0].max())"
   ],
   "metadata": {
    "colab": {
     "base_uri": "https://localhost:8080/"
    },
    "id": "QFbdkM-vc4TP",
    "executionInfo": {
     "status": "ok",
     "timestamp": 1740093257270,
     "user_tz": -660,
     "elapsed": 96,
     "user": {
      "displayName": "William S.",
      "userId": "16708966449686968459"
     }
    },
    "outputId": "8903be4a-7075-4896-fc35-35a19ff83813",
    "ExecuteTime": {
     "end_time": "2025-02-25T09:06:26.082423Z",
     "start_time": "2025-02-25T09:06:26.075972Z"
    }
   },
   "outputs": [
    {
     "name": "stdout",
     "output_type": "stream",
     "text": [
      "tensor(0.)\n",
      "tensor(1.)\n",
      "tensor(0.)\n",
      "tensor(1.)\n"
     ]
    }
   ],
   "execution_count": 5
  },
  {
   "cell_type": "markdown",
   "source": [
    "**[2.2]** Look at the dimensions of data_train using the [.shape] method"
   ],
   "metadata": {
    "id": "w1N0y5gPc8DB"
   }
  },
  {
   "cell_type": "code",
   "source": [
    "# Placeholder for student's code"
   ],
   "metadata": {
    "id": "cfoFw7OA4c2W",
    "executionInfo": {
     "status": "ok",
     "timestamp": 1740093257276,
     "user_tz": -660,
     "elapsed": 4,
     "user": {
      "displayName": "William S.",
      "userId": "16708966449686968459"
     }
    }
   },
   "outputs": [],
   "execution_count": null
  },
  {
   "cell_type": "code",
   "source": [
    "# Solution\n",
    "print(data_train[0][0].shape)"
   ],
   "metadata": {
    "colab": {
     "base_uri": "https://localhost:8080/"
    },
    "id": "d9A4pRVbc8av",
    "executionInfo": {
     "status": "ok",
     "timestamp": 1740093257298,
     "user_tz": -660,
     "elapsed": 14,
     "user": {
      "displayName": "William S.",
      "userId": "16708966449686968459"
     }
    },
    "outputId": "9fbf56e7-5fbb-49ce-fa68-81465e48610e",
    "ExecuteTime": {
     "end_time": "2025-02-25T09:06:34.431994Z",
     "start_time": "2025-02-25T09:06:34.429406Z"
    }
   },
   "outputs": [
    {
     "name": "stdout",
     "output_type": "stream",
     "text": [
      "torch.Size([784])\n"
     ]
    }
   ],
   "execution_count": 6
  },
  {
   "cell_type": "markdown",
   "source": [
    "### 3.   Defining the Architecture of the Multi-Layer Perceptron"
   ],
   "metadata": {
    "id": "vj7UkTyIeo1g"
   }
  },
  {
   "cell_type": "markdown",
   "source": [
    "**[3.1]** Import `torch.nn` as `nn`, `torch.optim` as `optim` and `numpy` as `np`"
   ],
   "metadata": {
    "id": "MzY8GtK0erX1"
   }
  },
  {
   "cell_type": "code",
   "source": [
    "# Placeholder for student's code"
   ],
   "metadata": {
    "id": "V2WYuC504fdF",
    "executionInfo": {
     "status": "ok",
     "timestamp": 1740093257342,
     "user_tz": -660,
     "elapsed": 44,
     "user": {
      "displayName": "William S.",
      "userId": "16708966449686968459"
     }
    }
   },
   "outputs": [],
   "execution_count": null
  },
  {
   "cell_type": "code",
   "source": [
    "# Solution\n",
    "import torch.nn as nn\n",
    "import torch.optim as optim\n",
    "import numpy as np"
   ],
   "metadata": {
    "id": "LZ5osoq8fHOQ",
    "executionInfo": {
     "status": "ok",
     "timestamp": 1740093257396,
     "user_tz": -660,
     "elapsed": 53,
     "user": {
      "displayName": "William S.",
      "userId": "16708966449686968459"
     }
    },
    "ExecuteTime": {
     "end_time": "2025-02-25T09:06:50.041486Z",
     "start_time": "2025-02-25T09:06:50.039536Z"
    }
   },
   "outputs": [],
   "execution_count": 7
  },
  {
   "cell_type": "markdown",
   "source": [
    "**[3.2]** We will set the seeds for Pytorch and Numpy in order to get reproducible results"
   ],
   "metadata": {
    "id": "gRfL4JDbfc4V"
   }
  },
  {
   "cell_type": "code",
   "source": [
    "# Placeholder for student's code"
   ],
   "metadata": {
    "id": "FpnRyuIM4gkJ",
    "executionInfo": {
     "status": "ok",
     "timestamp": 1740093257396,
     "user_tz": -660,
     "elapsed": 53,
     "user": {
      "displayName": "William S.",
      "userId": "16708966449686968459"
     }
    }
   },
   "outputs": [],
   "execution_count": null
  },
  {
   "cell_type": "code",
   "source": [
    "# Solution\n",
    "torch.manual_seed(42)\n",
    "np.random.seed(42)"
   ],
   "metadata": {
    "id": "uvIpXSDuffz4",
    "executionInfo": {
     "status": "ok",
     "timestamp": 1740093257397,
     "user_tz": -660,
     "elapsed": 5,
     "user": {
      "displayName": "William S.",
      "userId": "16708966449686968459"
     }
    },
    "ExecuteTime": {
     "end_time": "2025-02-25T09:06:56.822021Z",
     "start_time": "2025-02-25T09:06:56.815150Z"
    }
   },
   "outputs": [],
   "execution_count": 8
  },
  {
   "cell_type": "markdown",
   "source": [
    "**[3.3]** Then we will create a variable called `device` that will automatically select a GPU if available. Otherwise it will default to CPU."
   ],
   "metadata": {
    "id": "Xu9EUTZVgmsx"
   }
  },
  {
   "cell_type": "code",
   "source": [
    "# Placeholder for student's code"
   ],
   "metadata": {
    "id": "X7UY1QNV4hvO",
    "executionInfo": {
     "status": "ok",
     "timestamp": 1740093257398,
     "user_tz": -660,
     "elapsed": 5,
     "user": {
      "displayName": "William S.",
      "userId": "16708966449686968459"
     }
    }
   },
   "outputs": [],
   "execution_count": null
  },
  {
   "cell_type": "code",
   "source": [
    "# Solution\n",
    "device = 'mps' if torch.backends.mps.is_available() else 'cpu'"
   ],
   "metadata": {
    "id": "OEqwKd5ego1q",
    "executionInfo": {
     "status": "ok",
     "timestamp": 1740093257398,
     "user_tz": -660,
     "elapsed": 4,
     "user": {
      "displayName": "William S.",
      "userId": "16708966449686968459"
     }
    },
    "ExecuteTime": {
     "end_time": "2025-02-25T09:07:15.169477Z",
     "start_time": "2025-02-25T09:07:15.155631Z"
    }
   },
   "outputs": [],
   "execution_count": 9
  },
  {
   "cell_type": "markdown",
   "source": [
    "**[3.4]** Now we will create a variable called `layer_1` by instantiating a nn.Linear() (i.e. a hidden layer) class with 512 fully connected neurons"
   ],
   "metadata": {
    "id": "uqa49afag5AZ"
   }
  },
  {
   "cell_type": "code",
   "source": [
    "# Placeholder for student's code"
   ],
   "metadata": {
    "id": "v4F6bDQK4i7u",
    "executionInfo": {
     "status": "ok",
     "timestamp": 1740093257463,
     "user_tz": -660,
     "elapsed": 65,
     "user": {
      "displayName": "William S.",
      "userId": "16708966449686968459"
     }
    }
   },
   "outputs": [],
   "execution_count": null
  },
  {
   "cell_type": "code",
   "source": [
    "# Solution\n",
    "layer_1 = nn.Linear(784, 512)"
   ],
   "metadata": {
    "id": "rYOHr-wzino7",
    "executionInfo": {
     "status": "ok",
     "timestamp": 1740093257477,
     "user_tz": -660,
     "elapsed": 1,
     "user": {
      "displayName": "William S.",
      "userId": "16708966449686968459"
     }
    },
    "ExecuteTime": {
     "end_time": "2025-02-25T09:07:20.835825Z",
     "start_time": "2025-02-25T09:07:20.832027Z"
    }
   },
   "outputs": [],
   "execution_count": 10
  },
  {
   "cell_type": "markdown",
   "source": [
    "**[3.5]** Now we will create a hidden layer of 512 fully connected units and save it into a variable called `layer_2`"
   ],
   "metadata": {
    "id": "n2oM575aFG5E"
   }
  },
  {
   "cell_type": "code",
   "source": [
    "# Placeholder for student's code"
   ],
   "metadata": {
    "id": "hWvIUs7W4kD2",
    "executionInfo": {
     "status": "ok",
     "timestamp": 1740093257479,
     "user_tz": -660,
     "elapsed": 1,
     "user": {
      "displayName": "William S.",
      "userId": "16708966449686968459"
     }
    }
   },
   "outputs": [],
   "execution_count": null
  },
  {
   "cell_type": "code",
   "source": [
    "# Solution\n",
    "layer_2 = nn.Linear(512, 512)"
   ],
   "metadata": {
    "id": "aTr0PMTAi8Mm",
    "executionInfo": {
     "status": "ok",
     "timestamp": 1740093257506,
     "user_tz": -660,
     "elapsed": 15,
     "user": {
      "displayName": "William S.",
      "userId": "16708966449686968459"
     }
    },
    "ExecuteTime": {
     "end_time": "2025-02-25T09:07:35.907527Z",
     "start_time": "2025-02-25T09:07:35.904688Z"
    }
   },
   "outputs": [],
   "execution_count": 11
  },
  {
   "cell_type": "markdown",
   "source": [
    "**[3.6]** Then we will create a variable called `layer_top` that takes  512 neurons as input and connect to 10 output units"
   ],
   "metadata": {
    "id": "o4af9Ih-FIkL"
   }
  },
  {
   "cell_type": "code",
   "source": [
    "# Placeholder for student's code"
   ],
   "metadata": {
    "id": "WmBeo5ug4lcL",
    "executionInfo": {
     "status": "ok",
     "timestamp": 1740093257571,
     "user_tz": -660,
     "elapsed": 53,
     "user": {
      "displayName": "William S.",
      "userId": "16708966449686968459"
     }
    }
   },
   "outputs": [],
   "execution_count": null
  },
  {
   "cell_type": "code",
   "source": [
    "# Solution\n",
    "layer_top = nn.Linear(512, 10)"
   ],
   "metadata": {
    "id": "630IMsUGi8d9",
    "executionInfo": {
     "status": "ok",
     "timestamp": 1740093257574,
     "user_tz": -660,
     "elapsed": 2,
     "user": {
      "displayName": "William S.",
      "userId": "16708966449686968459"
     }
    },
    "ExecuteTime": {
     "end_time": "2025-02-25T09:07:45.123949Z",
     "start_time": "2025-02-25T09:07:45.121548Z"
    }
   },
   "outputs": [],
   "execution_count": 12
  },
  {
   "cell_type": "markdown",
   "source": [
    "**[3.7]** Finally let's stack these layers with a ReLu in between using nn.Sequential() class and save it into a variable called `model`"
   ],
   "metadata": {
    "id": "CoEK6nHrFfiW"
   }
  },
  {
   "cell_type": "code",
   "source": [
    "# Placeholder for student's code"
   ],
   "metadata": {
    "id": "nx-5Frax4mqT",
    "executionInfo": {
     "status": "ok",
     "timestamp": 1740093257576,
     "user_tz": -660,
     "elapsed": 0,
     "user": {
      "displayName": "William S.",
      "userId": "16708966449686968459"
     }
    }
   },
   "outputs": [],
   "execution_count": null
  },
  {
   "cell_type": "code",
   "source": [
    "# Solution\n",
    "model = nn.Sequential(\n",
    "    layer_1,\n",
    "    nn.ReLU(),\n",
    "    layer_2,\n",
    "    nn.ReLU(),\n",
    "    layer_top\n",
    ")"
   ],
   "metadata": {
    "id": "CG3Ycwfhjxgf",
    "executionInfo": {
     "status": "ok",
     "timestamp": 1740093257577,
     "user_tz": -660,
     "elapsed": 1,
     "user": {
      "displayName": "William S.",
      "userId": "16708966449686968459"
     }
    },
    "ExecuteTime": {
     "end_time": "2025-02-25T09:07:49.747959Z",
     "start_time": "2025-02-25T09:07:49.746140Z"
    }
   },
   "outputs": [],
   "execution_count": 13
  },
  {
   "cell_type": "markdown",
   "source": [
    "**[3.8]**  Print the architecture of `model`"
   ],
   "metadata": {
    "id": "h4Td6pOAk_3r"
   }
  },
  {
   "cell_type": "code",
   "source": [
    "# Placeholder for student's code"
   ],
   "metadata": {
    "id": "IqYuwZeA4n6I",
    "executionInfo": {
     "status": "ok",
     "timestamp": 1740093257591,
     "user_tz": -660,
     "elapsed": 0,
     "user": {
      "displayName": "William S.",
      "userId": "16708966449686968459"
     }
    }
   },
   "outputs": [],
   "execution_count": null
  },
  {
   "cell_type": "code",
   "source": [
    "# Solution\n",
    "model.to(device)\n",
    "print (model)"
   ],
   "metadata": {
    "colab": {
     "base_uri": "https://localhost:8080/"
    },
    "id": "jtPS6y2MkP_z",
    "executionInfo": {
     "status": "ok",
     "timestamp": 1740093257633,
     "user_tz": -660,
     "elapsed": 41,
     "user": {
      "displayName": "William S.",
      "userId": "16708966449686968459"
     }
    },
    "outputId": "dd393660-53b7-439d-ddc7-95e32fc5f60e",
    "ExecuteTime": {
     "end_time": "2025-02-25T09:08:34.005570Z",
     "start_time": "2025-02-25T09:08:33.934252Z"
    }
   },
   "outputs": [
    {
     "name": "stdout",
     "output_type": "stream",
     "text": [
      "Sequential(\n",
      "  (0): Linear(in_features=784, out_features=512, bias=True)\n",
      "  (1): ReLU()\n",
      "  (2): Linear(in_features=512, out_features=512, bias=True)\n",
      "  (3): ReLU()\n",
      "  (4): Linear(in_features=512, out_features=10, bias=True)\n",
      ")\n"
     ]
    }
   ],
   "execution_count": 14
  },
  {
   "cell_type": "markdown",
   "source": [
    "### 4. Training and Evaluation of the Model"
   ],
   "metadata": {
    "id": "iOqBP3ShkgGd"
   }
  },
  {
   "cell_type": "markdown",
   "source": [
    "**[4.1]**  Instantiate a `nn.CrossEntropyLoss()` and save it into a variable called `criterion`"
   ],
   "metadata": {
    "id": "jL-jelK0kitg"
   }
  },
  {
   "cell_type": "code",
   "source": [
    "# Placeholder for student's code"
   ],
   "metadata": {
    "id": "oFVOcs_o4qXy",
    "executionInfo": {
     "status": "ok",
     "timestamp": 1740093257634,
     "user_tz": -660,
     "elapsed": 1,
     "user": {
      "displayName": "William S.",
      "userId": "16708966449686968459"
     }
    }
   },
   "outputs": [],
   "execution_count": null
  },
  {
   "cell_type": "code",
   "source": [
    "# Solution\n",
    "criterion = nn.CrossEntropyLoss()"
   ],
   "metadata": {
    "id": "1n3sIYqKkwWE",
    "executionInfo": {
     "status": "ok",
     "timestamp": 1740093257635,
     "user_tz": -660,
     "elapsed": 1,
     "user": {
      "displayName": "William S.",
      "userId": "16708966449686968459"
     }
    },
    "ExecuteTime": {
     "end_time": "2025-02-25T09:09:15.940925Z",
     "start_time": "2025-02-25T09:09:15.939114Z"
    }
   },
   "outputs": [],
   "execution_count": 15
  },
  {
   "cell_type": "markdown",
   "source": [
    "**[4.2]**  Instantiate a `torch.optim.Adam()` optimizer with the model's parameters and 0.001 as learning rate and save it into a variable called `optimizer`"
   ],
   "metadata": {
    "id": "NkvY-iYKky9S"
   }
  },
  {
   "cell_type": "code",
   "source": [
    "# Placeholder for student's code"
   ],
   "metadata": {
    "id": "GysvB4xM4rrZ",
    "executionInfo": {
     "status": "ok",
     "timestamp": 1740093257636,
     "user_tz": -660,
     "elapsed": 0,
     "user": {
      "displayName": "William S.",
      "userId": "16708966449686968459"
     }
    }
   },
   "outputs": [],
   "execution_count": null
  },
  {
   "cell_type": "code",
   "source": [
    "# Solution\n",
    "optimizer = optim.Adam(model.parameters(), lr=0.001)"
   ],
   "metadata": {
    "id": "9H7O7WUGk7qG",
    "executionInfo": {
     "status": "ok",
     "timestamp": 1740093257637,
     "user_tz": -660,
     "elapsed": 1,
     "user": {
      "displayName": "William S.",
      "userId": "16708966449686968459"
     }
    },
    "ExecuteTime": {
     "end_time": "2025-02-25T09:09:22.256049Z",
     "start_time": "2025-02-25T09:09:22.254138Z"
    }
   },
   "outputs": [],
   "execution_count": 16
  },
  {
   "cell_type": "markdown",
   "source": [
    "**[4.3]**  Now we will call the DataLoader function that iteratively loads data based on batch size, shuffle and save it into two different variables called `dataloader_train` and `dataloader_test`. Set the `BATCH_SIZE` to 64."
   ],
   "metadata": {
    "id": "eL0U5Au3k0Jt"
   }
  },
  {
   "cell_type": "code",
   "source": [
    "# Placeholder for student's code"
   ],
   "metadata": {
    "id": "WczxE-9E4tE9",
    "executionInfo": {
     "status": "ok",
     "timestamp": 1740093257638,
     "user_tz": -660,
     "elapsed": 1,
     "user": {
      "displayName": "William S.",
      "userId": "16708966449686968459"
     }
    }
   },
   "outputs": [],
   "execution_count": null
  },
  {
   "cell_type": "code",
   "source": [
    "# Solution\n",
    "BATCH_SIZE = 64\n",
    "dataloader_train = DataLoader(data_train, batch_size = BATCH_SIZE, shuffle = True)\n",
    "dataloader_test = DataLoader(data_test, batch_size = BATCH_SIZE, shuffle=True)"
   ],
   "metadata": {
    "id": "ebQ-O_MI4S6d",
    "executionInfo": {
     "status": "ok",
     "timestamp": 1740093257639,
     "user_tz": -660,
     "elapsed": 1,
     "user": {
      "displayName": "William S.",
      "userId": "16708966449686968459"
     }
    },
    "ExecuteTime": {
     "end_time": "2025-02-25T09:09:26.004752Z",
     "start_time": "2025-02-25T09:09:26.002388Z"
    }
   },
   "outputs": [],
   "execution_count": 17
  },
  {
   "cell_type": "markdown",
   "source": [
    "**[4.4]**  Let's have a look at the length of `dataloader_train`."
   ],
   "metadata": {
    "id": "1Q-1bYAUk12N"
   }
  },
  {
   "cell_type": "code",
   "source": [
    "# Placeholder for student's code"
   ],
   "metadata": {
    "id": "PgyPbX1a4unt",
    "executionInfo": {
     "status": "ok",
     "timestamp": 1740093257640,
     "user_tz": -660,
     "elapsed": 1,
     "user": {
      "displayName": "William S.",
      "userId": "16708966449686968459"
     }
    }
   },
   "outputs": [],
   "execution_count": null
  },
  {
   "cell_type": "code",
   "source": [
    "# Solution\n",
    "len(dataloader_train)"
   ],
   "metadata": {
    "colab": {
     "base_uri": "https://localhost:8080/"
    },
    "id": "fEWLia1P67VI",
    "executionInfo": {
     "status": "ok",
     "timestamp": 1740093257643,
     "user_tz": -660,
     "elapsed": 3,
     "user": {
      "displayName": "William S.",
      "userId": "16708966449686968459"
     }
    },
    "outputId": "453d9f25-e91e-4150-ffde-236c60087631",
    "ExecuteTime": {
     "end_time": "2025-02-25T09:09:29.062507Z",
     "start_time": "2025-02-25T09:09:29.060095Z"
    }
   },
   "outputs": [
    {
     "data": {
      "text/plain": [
       "938"
      ]
     },
     "execution_count": 18,
     "metadata": {},
     "output_type": "execute_result"
    }
   ],
   "execution_count": 18
  },
  {
   "cell_type": "markdown",
   "source": [
    "**[4.5]** **Training:** Now it is time to train our model. Set the `EPOCHS` to 5 and create a for loop that will iterate based on the EPOCHS value. A nested loop is initiated that extracts data and target from dataloader_train and introduce the following logics:\n",
    "- reset the gradients\n",
    "- perform the forward propagation and get the model predictions\n",
    "- calculate the loss between the predictions and the actuals\n",
    "- perform back propagation\n",
    "- update the weights\n",
    "- Count the total loss"
   ],
   "metadata": {
    "id": "Uu8glUv_lm2s"
   }
  },
  {
   "cell_type": "code",
   "source": [
    "# Placeholder for student's code"
   ],
   "metadata": {
    "id": "n_80fxHi4v1R",
    "executionInfo": {
     "status": "ok",
     "timestamp": 1740093257644,
     "user_tz": -660,
     "elapsed": 0,
     "user": {
      "displayName": "William S.",
      "userId": "16708966449686968459"
     }
    }
   },
   "outputs": [],
   "execution_count": null
  },
  {
   "cell_type": "code",
   "source": [
    "# Solution\n",
    "EPOCHS = 5\n",
    "for i in range(EPOCHS):\n",
    "    total_loss = 0\n",
    "    for data, target in dataloader_train:\n",
    "        data = data.to(device)  # Move data to the same device as the model\n",
    "        target = target.to(device)  # Move target to the same device as the model\n",
    "        optimizer.zero_grad() #Zero gradients\n",
    "        outputs = model(data) # Forward Propagation to get predicted outcome\n",
    "        loss = criterion(outputs, target) # Compute the loss\n",
    "        loss.backward()  # Back propagation\n",
    "        optimizer.step()  # Update the weights\n",
    "        total_loss += loss.item()\n",
    "\n",
    "    total_loss /= len(dataloader_train)\n",
    "    print(f\"EPOCH {i}: 'Loss' {total_loss:.4f}\")\n"
   ],
   "metadata": {
    "colab": {
     "base_uri": "https://localhost:8080/"
    },
    "id": "IXq8tmLRlpGG",
    "outputId": "eec1585c-f6ef-470b-9eb0-5ab9269ca89b",
    "executionInfo": {
     "status": "ok",
     "timestamp": 1740093357444,
     "user_tz": -660,
     "elapsed": 99799,
     "user": {
      "displayName": "William S.",
      "userId": "16708966449686968459"
     }
    },
    "ExecuteTime": {
     "end_time": "2025-02-25T09:11:48.017914Z",
     "start_time": "2025-02-25T09:11:27.773078Z"
    }
   },
   "outputs": [
    {
     "name": "stdout",
     "output_type": "stream",
     "text": [
      "EPOCH 0: 'Loss' 0.2235\n",
      "EPOCH 1: 'Loss' 0.0859\n",
      "EPOCH 2: 'Loss' 0.0583\n",
      "EPOCH 3: 'Loss' 0.0415\n",
      "EPOCH 4: 'Loss' 0.0314\n"
     ]
    }
   ],
   "execution_count": 19
  },
  {
   "cell_type": "markdown",
   "source": [
    "**[4.6]** Set the `input_size`. MNIST images are 28x28 pixels."
   ],
   "metadata": {
    "id": "jMmJe88_u7hR"
   }
  },
  {
   "cell_type": "code",
   "source": [
    "# Placeholder for student's code"
   ],
   "metadata": {
    "id": "XqyvXHPT4xXz",
    "executionInfo": {
     "status": "ok",
     "timestamp": 1740093357447,
     "user_tz": -660,
     "elapsed": 5,
     "user": {
      "displayName": "William S.",
      "userId": "16708966449686968459"
     }
    }
   },
   "outputs": [],
   "execution_count": null
  },
  {
   "cell_type": "code",
   "source": [
    "# Solution\n",
    "input_size = 28 * 28  # MNIST images are 28x28 pixels"
   ],
   "metadata": {
    "id": "UPecula0Cneb",
    "executionInfo": {
     "status": "ok",
     "timestamp": 1740093357449,
     "user_tz": -660,
     "elapsed": 1,
     "user": {
      "displayName": "William S.",
      "userId": "16708966449686968459"
     }
    },
    "ExecuteTime": {
     "end_time": "2025-02-25T09:12:21.302384Z",
     "start_time": "2025-02-25T09:12:21.300596Z"
    }
   },
   "outputs": [],
   "execution_count": 20
  },
  {
   "cell_type": "markdown",
   "source": [
    "**[4.7]** **Testing:** Now it is time to test our model. Initiate the `model.eval()` along with `torch.no_grad()` to turn off the gradients. Finally calculate the total and correct value."
   ],
   "metadata": {
    "id": "GlQfqcPTwux_"
   }
  },
  {
   "cell_type": "code",
   "source": [
    "# Placeholder for student's code"
   ],
   "metadata": {
    "id": "fV501jMx44z2",
    "executionInfo": {
     "status": "ok",
     "timestamp": 1740093357451,
     "user_tz": -660,
     "elapsed": 2,
     "user": {
      "displayName": "William S.",
      "userId": "16708966449686968459"
     }
    }
   },
   "outputs": [],
   "execution_count": null
  },
  {
   "cell_type": "code",
   "source": [
    "# Solution\n",
    "from sklearn.metrics import confusion_matrix\n",
    "model.eval()\n",
    "correct = 0\n",
    "total = 0\n",
    "# Get the predictions for the test dataset\n",
    "predicted_labels = []\n",
    "true_labels = []\n",
    "\n",
    "with torch.no_grad():\n",
    "    for data, target in dataloader_test:\n",
    "        data, target = data.to(device), target.to(device)\n",
    "        data = data.view(-1, input_size)\n",
    "        outputs = model(data)\n",
    "        _, predicted = torch.max(outputs.data, 1)\n",
    "        total += target.size(0)\n",
    "        correct += (predicted == target).sum().item()\n",
    "        predicted_labels.extend(predicted.tolist())\n",
    "        true_labels.extend(target.tolist())"
   ],
   "metadata": {
    "id": "GHDGNzOZCpz_",
    "executionInfo": {
     "status": "ok",
     "timestamp": 1740093360178,
     "user_tz": -660,
     "elapsed": 2726,
     "user": {
      "displayName": "William S.",
      "userId": "16708966449686968459"
     }
    },
    "ExecuteTime": {
     "end_time": "2025-02-25T09:14:15.014203Z",
     "start_time": "2025-02-25T09:14:14.289978Z"
    }
   },
   "outputs": [],
   "execution_count": 24
  },
  {
   "cell_type": "markdown",
   "source": [
    "### 5. Analysing the Results"
   ],
   "metadata": {
    "id": "UPTjZi0wbfH9"
   }
  },
  {
   "cell_type": "markdown",
   "source": [
    "**[5.1]** Finally let's use our model to make predictions on the testing set. And let's print the prediction for the first observation"
   ],
   "metadata": {
    "id": "JCfvrawH2uzq"
   }
  },
  {
   "cell_type": "code",
   "source": [
    "# Placeholder for student's code"
   ],
   "metadata": {
    "id": "Fz9N5DZdUWhv",
    "executionInfo": {
     "status": "ok",
     "timestamp": 1740093360197,
     "user_tz": -660,
     "elapsed": 20,
     "user": {
      "displayName": "William S.",
      "userId": "16708966449686968459"
     }
    }
   },
   "outputs": [],
   "execution_count": null
  },
  {
   "cell_type": "code",
   "source": [
    "print (outputs[0])"
   ],
   "metadata": {
    "colab": {
     "base_uri": "https://localhost:8080/"
    },
    "id": "q6DGbwi62vmg",
    "executionInfo": {
     "status": "ok",
     "timestamp": 1740093360206,
     "user_tz": -660,
     "elapsed": 7,
     "user": {
      "displayName": "William S.",
      "userId": "16708966449686968459"
     }
    },
    "outputId": "862d7f41-60f6-4b59-acfd-44175315dbb8",
    "ExecuteTime": {
     "end_time": "2025-02-25T09:14:20.232427Z",
     "start_time": "2025-02-25T09:14:20.198191Z"
    }
   },
   "outputs": [
    {
     "name": "stdout",
     "output_type": "stream",
     "text": [
      "tensor([-4.7636, -7.7007, -5.0942, -1.3986, -2.1675, -5.2165, -7.0142, -4.2140,\n",
      "        -1.7667,  7.8241], device='mps:0')\n"
     ]
    }
   ],
   "execution_count": 25
  },
  {
   "cell_type": "markdown",
   "source": [
    "**[5.2]**  The output from the model is the probability for each output class. In order to get the final predicted value, we need to the [.argmax()](https://docs.scipy.org/doc/numpy/reference/generated/numpy.argmax.html) method from numpy."
   ],
   "metadata": {
    "id": "SFhju_wj2sFM"
   }
  },
  {
   "cell_type": "code",
   "source": [
    "# Placeholder for student's code"
   ],
   "metadata": {
    "id": "rveJKg0BUYXk",
    "executionInfo": {
     "status": "ok",
     "timestamp": 1740093360207,
     "user_tz": -660,
     "elapsed": 0,
     "user": {
      "displayName": "William S.",
      "userId": "16708966449686968459"
     }
    }
   },
   "outputs": [],
   "execution_count": null
  },
  {
   "cell_type": "code",
   "source": [
    "pred_test = np.argmax(outputs.cpu().numpy(), 1)\n",
    "pred_test[0]"
   ],
   "metadata": {
    "colab": {
     "base_uri": "https://localhost:8080/"
    },
    "id": "sd8gPRd-2rxm",
    "executionInfo": {
     "status": "ok",
     "timestamp": 1740093360244,
     "user_tz": -660,
     "elapsed": 36,
     "user": {
      "displayName": "William S.",
      "userId": "16708966449686968459"
     }
    },
    "outputId": "37e5348a-3a1f-4162-d90e-88406167442a",
    "ExecuteTime": {
     "end_time": "2025-02-25T09:15:35.132232Z",
     "start_time": "2025-02-25T09:15:35.128780Z"
    }
   },
   "outputs": [
    {
     "data": {
      "text/plain": [
       "np.int64(9)"
      ]
     },
     "execution_count": 29,
     "metadata": {},
     "output_type": "execute_result"
    }
   ],
   "execution_count": 29
  },
  {
   "cell_type": "markdown",
   "source": [
    "**[5.3]** Let's compare this prediction to the actual true value"
   ],
   "metadata": {
    "id": "ARfpPiLi2rUU"
   }
  },
  {
   "cell_type": "code",
   "source": [
    "# Placeholder for student's code"
   ],
   "metadata": {
    "id": "YyRJRa8xUZ3E",
    "executionInfo": {
     "status": "ok",
     "timestamp": 1740093360255,
     "user_tz": -660,
     "elapsed": 11,
     "user": {
      "displayName": "William S.",
      "userId": "16708966449686968459"
     }
    }
   },
   "outputs": [],
   "execution_count": null
  },
  {
   "cell_type": "code",
   "source": [
    "target[0]"
   ],
   "metadata": {
    "colab": {
     "base_uri": "https://localhost:8080/"
    },
    "id": "duSN-9B_3Kjk",
    "executionInfo": {
     "status": "ok",
     "timestamp": 1740093360263,
     "user_tz": -660,
     "elapsed": 8,
     "user": {
      "displayName": "William S.",
      "userId": "16708966449686968459"
     }
    },
    "outputId": "71ed7a8f-b3ff-452c-94e8-b533d7a74cd6",
    "ExecuteTime": {
     "end_time": "2025-02-25T09:15:38.171692Z",
     "start_time": "2025-02-25T09:15:38.167446Z"
    }
   },
   "outputs": [
    {
     "data": {
      "text/plain": [
       "tensor(9, device='mps:0')"
      ]
     },
     "execution_count": 30,
     "metadata": {},
     "output_type": "execute_result"
    }
   ],
   "execution_count": 30
  },
  {
   "cell_type": "markdown",
   "source": [
    "**[5.4]** Let's calculate the `accuracy` of the model by dividing the correct value with the total value and print the `accuracy`."
   ],
   "metadata": {
    "id": "robUhnd03YHn"
   }
  },
  {
   "cell_type": "code",
   "source": [
    "# Placeholder for student's code"
   ],
   "metadata": {
    "id": "UKXUr4REUcHU",
    "executionInfo": {
     "status": "ok",
     "timestamp": 1740093360272,
     "user_tz": -660,
     "elapsed": 1,
     "user": {
      "displayName": "William S.",
      "userId": "16708966449686968459"
     }
    }
   },
   "outputs": [],
   "execution_count": null
  },
  {
   "cell_type": "code",
   "source": [
    "# Solution\n",
    "accuracy = correct / total\n",
    "print(f'Test Accuracy: {accuracy * 100:.2f}%')"
   ],
   "metadata": {
    "colab": {
     "base_uri": "https://localhost:8080/"
    },
    "id": "PTmBqsCu3YUd",
    "executionInfo": {
     "status": "ok",
     "timestamp": 1740093360286,
     "user_tz": -660,
     "elapsed": 11,
     "user": {
      "displayName": "William S.",
      "userId": "16708966449686968459"
     }
    },
    "outputId": "85d1477d-2591-4a84-cb5f-a9e608af779e",
    "ExecuteTime": {
     "end_time": "2025-02-25T09:15:40.435010Z",
     "start_time": "2025-02-25T09:15:40.432527Z"
    }
   },
   "outputs": [
    {
     "name": "stdout",
     "output_type": "stream",
     "text": [
      "Test Accuracy: 98.06%\n"
     ]
    }
   ],
   "execution_count": 31
  },
  {
   "cell_type": "markdown",
   "source": [
    "**[5.5]** Now we can calculate the confusion matrix using the [confusion_matrix()] (https://pytorch.org/ignite/generated/ignite.metrics.confusion_matrix.ConfusionMatrix.html) method from PyTorch."
   ],
   "metadata": {
    "id": "j0K_opMoSAGI"
   }
  },
  {
   "cell_type": "code",
   "source": [
    "# Placeholder for student's code"
   ],
   "metadata": {
    "id": "Q87Wf2vCUgD9",
    "executionInfo": {
     "status": "ok",
     "timestamp": 1740093360331,
     "user_tz": -660,
     "elapsed": 45,
     "user": {
      "displayName": "William S.",
      "userId": "16708966449686968459"
     }
    }
   },
   "outputs": [],
   "execution_count": null
  },
  {
   "cell_type": "code",
   "source": [
    "# Calculate the confusion matrix\n",
    "conf_matrix = confusion_matrix(true_labels, predicted_labels)"
   ],
   "metadata": {
    "id": "J4S_UwHRcAL2",
    "executionInfo": {
     "status": "ok",
     "timestamp": 1740093360341,
     "user_tz": -660,
     "elapsed": 9,
     "user": {
      "displayName": "William S.",
      "userId": "16708966449686968459"
     }
    },
    "ExecuteTime": {
     "end_time": "2025-02-25T09:15:43.073976Z",
     "start_time": "2025-02-25T09:15:43.069116Z"
    }
   },
   "outputs": [],
   "execution_count": 32
  },
  {
   "cell_type": "markdown",
   "source": [
    "**[5.6]** Let's plot the confusion matrix."
   ],
   "metadata": {
    "id": "F5bcEkWmdCzC"
   }
  },
  {
   "cell_type": "code",
   "source": [
    "# Placeholder for student's code"
   ],
   "metadata": {
    "id": "hOrE--DiUhjl",
    "executionInfo": {
     "status": "ok",
     "timestamp": 1740093360341,
     "user_tz": -660,
     "elapsed": 8,
     "user": {
      "displayName": "William S.",
      "userId": "16708966449686968459"
     }
    }
   },
   "outputs": [],
   "execution_count": null
  },
  {
   "cell_type": "code",
   "source": [
    "# Solution\n",
    "# Import the packages for plotting the graph\n",
    "import matplotlib.pyplot as plt\n",
    "import seaborn as sns\n",
    "# Plotting the confusion matrix\n",
    "plt.figure(figsize=(10, 8))\n",
    "sns.heatmap(conf_matrix, annot=True, fmt='d', cmap='Blues', cbar=False)\n",
    "plt.xlabel('Predicted labels')\n",
    "plt.ylabel('True labels')\n",
    "plt.title('Confusion Matrix')\n",
    "plt.show()"
   ],
   "metadata": {
    "colab": {
     "base_uri": "https://localhost:8080/",
     "height": 718
    },
    "id": "q4rsi50kSAVe",
    "executionInfo": {
     "status": "ok",
     "timestamp": 1740093361626,
     "user_tz": -660,
     "elapsed": 1290,
     "user": {
      "displayName": "William S.",
      "userId": "16708966449686968459"
     }
    },
    "outputId": "18692f89-6ba8-4c7e-ab2b-12342ad86b57",
    "ExecuteTime": {
     "end_time": "2025-02-25T09:15:47.307027Z",
     "start_time": "2025-02-25T09:15:47.216225Z"
    }
   },
   "outputs": [
    {
     "data": {
      "text/plain": [
       "<Figure size 1000x800 with 1 Axes>"
      ],
      "image/png": "[encoded data removed]"
     },
     "metadata": {},
     "output_type": "display_data"
    }
   ],
   "execution_count": 33
  },
  {
   "cell_type": "markdown",
   "source": [
    "Excellent! You just completed the first exercise of this lab. We built a custom MLP with PyTorch for predicting the right handwritten digit from the MNIST dataset..\n",
    "\n",
    "In the next exercise, you will be building a binary classifier with minimal guidance."
   ],
   "metadata": {
    "id": "2GyRCla_4a7M"
   }
  }
 ]
}
