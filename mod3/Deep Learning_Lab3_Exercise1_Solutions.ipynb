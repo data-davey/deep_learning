{
 "cells": [
  {
   "cell_type": "markdown",
   "metadata": {
    "id": "FLXhyefWEtdm"
   },
   "source": [
    "# Image Classification with PyTorch\n",
    "### *MNIST Dataset*\n",
    "\n",
    "---\n",
    "\n",
    "## Welcome to the third lab of Deep Learning!\n",
    "\n",
    "In the previous lecture, you have been introduced to Convolution Neural Networks. In this lab, we will see how we can **build our own CNN** for processing images with the **torchvision from Pytorch**.\n",
    "\n",
    "By the end of this lab, you will be able to:\n",
    "- import the relevant classes from PyTorch\n",
    "- design the architecture of a custom CNN.\n",
    "- create image and data generators\n",
    "- perform data augmentation\n",
    "- fit a CNN and assess its performance"
   ]
  },
  {
   "cell_type": "markdown",
   "metadata": {
    "id": "oCETur9BFoiP"
   },
   "source": [
    "# Predicting Hand-Written Digits (multi-class classification)\n",
    "\n",
    "## Dataset\n",
    "\n",
    "The dataset we will be using is the famous MNIST.\n",
    "\n",
    "The data was originally published by Professor Dr. Hans Hofmann\n",
    "Institut f\"ur Statistik und \"Okonometrie\n",
    "Universit\"at Hamburg\n",
    "FB Wirtschaftswissenschaften\n",
    "Von-Melle-Park 5\n",
    "2000 Hamburg 13\n",
    "\n",
    "Each observation is an black and white image of size 28 by 28 representing a single hand-written digit.\n",
    "\n",
    "This dataset is avalaible from Kaggle: [MNIST](https://www.kaggle.com/datasets/oddrationale/mnist-in-csv)\n",
    "\n",
    "## Objective\n",
    "\n",
    "Our goal is to build a Convolution Neural Network model that can predict accurately the hand-written digit from an image.\n",
    "\n",
    "## Instructions\n",
    "\n",
    "This is a guided exercise where some of the code have already been pre-defined. Your task is to fill the remaining part of the code (it will be highlighted with placehoders) to train and evaluate your model.\n",
    "\n",
    "This exercise is split in several parts:\n",
    "1.   Loading and Exploration of the Dataset\n",
    "2.   Preparing the Dataset\n",
    "3.   Defining the CNN Architecture:\n",
    "    - Convolutional layer with input channel 1, output channel 32 and kernels of (3,3)\n",
    "    - Max pooling of (2,2)\n",
    "    - Convolutional layer with input channel 32, output channel 64 and kernels of (3,3)\n",
    "    - Max pooling of (2,2)\n",
    "    - Fully-connected layer of 128 units\n",
    "    - Fully-connected layer of 10 units\n",
    "    - ReLU as the activation function for the hidden layers\n",
    "    - Adam as the optimiser\n",
    "4.   Training and Evaluation of the Model\n",
    "5.   Analysing the Results"
   ]
  },
  {
   "cell_type": "markdown",
   "metadata": {
    "id": "oVLq-VQ5H2lI"
   },
   "source": [
    "## Exercise 1 Solution"
   ]
  },
  {
   "cell_type": "markdown",
   "metadata": {
    "id": "pANVS0ffH71e"
   },
   "source": [
    "### 1. Loading and Exploration of the Dataset"
   ]
  },
  {
   "cell_type": "markdown",
   "metadata": {
    "id": "pTnfD892IExG"
   },
   "source": [
    "**[1.1]** First we need to import the relevant class and libraries that contains the dataset from PyTorch and Python\n"
   ]
  },
  {
   "cell_type": "code",
   "metadata": {
    "id": "Hvg6IK4fi4Ik",
    "ExecuteTime": {
     "end_time": "2025-03-04T08:48:35.190087Z",
     "start_time": "2025-03-04T08:48:33.973271Z"
    }
   },
   "source": [
    "# Solution\n",
    "import torch\n",
    "import torchvision\n",
    "from torchvision import datasets, transforms\n",
    "from torch.utils.data import DataLoader\n",
    "import matplotlib.pyplot as plt"
   ],
   "outputs": [],
   "execution_count": 1
  },
  {
   "cell_type": "markdown",
   "metadata": {
    "id": "RDyub5s0IeBF"
   },
   "source": [
    "**[1.2]** Apply transformation using compose class. Use Normalize function of PyTorch (https://pytorch.org/vision/main/generated/torchvision.transforms.Normalize.html) to get data data within a range and reduce skewness. The MNIST (Modified National Institute of Standards and Technology) data consists of 60,000 training images and 10,000 test images. Each image is a 28 x 28 (784 pixels) handwritten digit from \"0\" to \"9.\". For more information (https://www.geeksforgeeks.org/how-to-normalize-images-in-pytorch/)."
   ]
  },
  {
   "cell_type": "code",
   "metadata": {
    "id": "fDr3qW4nIrz-",
    "ExecuteTime": {
     "end_time": "2025-03-04T08:48:40.069619Z",
     "start_time": "2025-03-04T08:48:40.067555Z"
    }
   },
   "source": [
    "# Solution\n",
    "# Define a transform to convert images to tensors and normalize them.\n",
    "# Normalization is used to scale the pixel values to a range that helps training.\n",
    "transform = transforms.Compose([transforms.ToTensor(), transforms.Normalize((0.5,), (0.5,))])"
   ],
   "outputs": [],
   "execution_count": 2
  },
  {
   "cell_type": "markdown",
   "metadata": {
    "id": "9B-NVkOeKxeZ"
   },
   "source": [
    "**[1.3]** Then we will load the MNIST dataset into separate variables: train_data, test_data"
   ]
  },
  {
   "cell_type": "code",
   "metadata": {
    "colab": {
     "base_uri": "https://localhost:8080/"
    },
    "executionInfo": {
     "elapsed": 5125,
     "status": "ok",
     "timestamp": 1740791693309,
     "user": {
      "displayName": "William S.",
      "userId": "16708966449686968459"
     },
     "user_tz": -660
    },
    "id": "qNd2qOkKK-I5",
    "outputId": "9acf7478-7037-4472-a2f3-aea49001cf84",
    "ExecuteTime": {
     "end_time": "2025-03-04T08:48:43.944019Z",
     "start_time": "2025-03-04T08:48:43.918650Z"
    }
   },
   "source": [
    "# Solution\n",
    "train_data = datasets.MNIST(root='./data', train=True, download=True, transform=transform)\n",
    "test_data = datasets.MNIST(root='./data', train=False, download=True, transform=transform)"
   ],
   "outputs": [],
   "execution_count": 3
  },
  {
   "cell_type": "markdown",
   "metadata": {
    "id": "RoF2TCf-nt4d"
   },
   "source": [
    "**[1.4]** Now we will divide the length of the train_data into `train_size` and `val_size` by following the ratio 70:30."
   ]
  },
  {
   "cell_type": "code",
   "metadata": {
    "id": "Vw91ENPXMWws",
    "ExecuteTime": {
     "end_time": "2025-03-04T08:48:49.850200Z",
     "start_time": "2025-03-04T08:48:49.847833Z"
    }
   },
   "source": [
    "# Solution\n",
    "total_length_train_data = len(train_data)\n",
    "train_size = int(0.7 * total_length_train_data)\n",
    "val_size = int(0.30 * total_length_train_data)"
   ],
   "outputs": [],
   "execution_count": 4
  },
  {
   "cell_type": "markdown",
   "metadata": {
    "id": "mHoTwZY6nuZb"
   },
   "source": [
    "**[1.5]** Let's split the train data into `train_dataset` and `val_dataset` according to the given size `train_size` and `val_size` by using random_split function of PyTorch (https://pytorch.org/docs/stable/data.html)."
   ]
  },
  {
   "cell_type": "code",
   "metadata": {
    "id": "r4wW4kP2MtaW",
    "ExecuteTime": {
     "end_time": "2025-03-04T08:48:51.948039Z",
     "start_time": "2025-03-04T08:48:51.944480Z"
    }
   },
   "source": [
    "# Solution\n",
    "train_dataset, val_dataset = torch.utils.data.random_split(train_data, [train_size, val_size])"
   ],
   "outputs": [],
   "execution_count": 5
  },
  {
   "cell_type": "markdown",
   "metadata": {
    "id": "X_qmeAsbIMke"
   },
   "source": [
    "**[1.6]** Then display the grayscale image of train_data by calling  imshow() function of matplotlib https://www.mathworks.com/help/images/ref/imshow.html"
   ]
  },
  {
   "cell_type": "code",
   "metadata": {
    "colab": {
     "base_uri": "https://localhost:8080/",
     "height": 447
    },
    "executionInfo": {
     "elapsed": 413,
     "status": "ok",
     "timestamp": 1740791693763,
     "user": {
      "displayName": "William S.",
      "userId": "16708966449686968459"
     },
     "user_tz": -660
    },
    "id": "Fn3ym-OaIM1T",
    "outputId": "e13cc2da-ab37-4b4a-9df2-18c0465bfdae",
    "ExecuteTime": {
     "end_time": "2025-03-04T08:48:54.374685Z",
     "start_time": "2025-03-04T08:48:54.320360Z"
    }
   },
   "source": [
    "# Solution\n",
    "plt.imshow(train_dataset[0][0][0],cmap=\"gray\")"
   ],
   "outputs": [
    {
     "data": {
      "text/plain": [
       "<matplotlib.image.AxesImage at 0x1039ebed0>"
      ]
     },
     "execution_count": 6,
     "metadata": {},
     "output_type": "execute_result"
    },
    {
     "data": {
      "text/plain": [
       "<Figure size 640x480 with 1 Axes>"
      ],
      "image/png": "[encoded data removed]"
     },
     "metadata": {},
     "output_type": "display_data"
    }
   ],
   "execution_count": 6
  },
  {
   "cell_type": "markdown",
   "metadata": {
    "id": "UCodMv-4L-Uc"
   },
   "source": [
    "### 2.   Preparing the Dataset"
   ]
  },
  {
   "cell_type": "markdown",
   "metadata": {
    "id": "ewfjPRxIL__-"
   },
   "source": [
    "[2.1] We already prepared the dataset in section 1.3 by using Nromalize function for training and testing sets. Now, lets have a look at the maximum value and minimum value of data train[0][0]."
   ]
  },
  {
   "cell_type": "code",
   "execution_count": 7,
   "metadata": {
    "colab": {
     "base_uri": "https://localhost:8080/"
    },
    "executionInfo": {
     "elapsed": 26,
     "status": "ok",
     "timestamp": 1740791693790,
     "user": {
      "displayName": "William S.",
      "userId": "16708966449686968459"
     },
     "user_tz": -660
    },
    "id": "m_0F260qMfs2",
    "outputId": "d531e2a1-eab6-4f45-b784-3f755a651817"
   },
   "outputs": [
    {
     "name": "stdout",
     "output_type": "stream",
     "text": [
      "tensor(-1.)\n",
      "tensor(1.)\n",
      "tensor(-1.)\n",
      "tensor(1.)\n",
      "tensor(-1.)\n",
      "tensor(1.)\n"
     ]
    }
   ],
   "source": [
    "# Solution\n",
    "print(train_dataset[0][0].min())\n",
    "print(train_dataset[0][0].max())\n",
    "print(val_dataset[0][0].min())\n",
    "print(val_dataset[0][0].max())\n",
    "print(test_data[0][0].min())\n",
    "print(test_data[0][0].max())"
   ]
  },
  {
   "cell_type": "markdown",
   "metadata": {
    "id": "43D5UU6cGQca"
   },
   "source": [
    "**[2.2]** Look at the length of train_data, val_data and test_data by using len() function of python."
   ]
  },
  {
   "cell_type": "code",
   "execution_count": 8,
   "metadata": {
    "colab": {
     "base_uri": "https://localhost:8080/"
    },
    "executionInfo": {
     "elapsed": 47,
     "status": "ok",
     "timestamp": 1740791693837,
     "user": {
      "displayName": "William S.",
      "userId": "16708966449686968459"
     },
     "user_tz": -660
    },
    "id": "IDx8nO4eGSl5",
    "outputId": "b7124b90-2dca-4cbe-e0c7-df7f7a1d67a7"
   },
   "outputs": [
    {
     "name": "stdout",
     "output_type": "stream",
     "text": [
      "42000\n",
      "18000\n",
      "10000\n"
     ]
    }
   ],
   "source": [
    "# Solution\n",
    "print(len(train_dataset))\n",
    "print(len(val_dataset))\n",
    "print(len(test_data))"
   ]
  },
  {
   "cell_type": "markdown",
   "metadata": {
    "id": "jjUUzgU-HeuZ"
   },
   "source": [
    "### 3.   Defining the Architecture of CNN"
   ]
  },
  {
   "cell_type": "markdown",
   "metadata": {
    "id": "m7guQAZzHg54"
   },
   "source": [
    "**[3.1]** Import `torch.nn` as `nn`, `torch.optim` as `optim` and other relevant packages to define the architecture of CNN"
   ]
  },
  {
   "cell_type": "code",
   "execution_count": 9,
   "metadata": {
    "id": "gEGcnQqMHffJ"
   },
   "outputs": [],
   "source": [
    "# Solution\n",
    "import torch.nn as nn\n",
    "import torch.optim as optim\n",
    "import torch.nn.functional as F"
   ]
  },
  {
   "cell_type": "markdown",
   "metadata": {
    "id": "cjLJyVhxKkIE"
   },
   "source": [
    "**[3.2]** We will set the seeds for Pytorch in order to get reproducible results"
   ]
  },
  {
   "cell_type": "code",
   "execution_count": 10,
   "metadata": {
    "colab": {
     "base_uri": "https://localhost:8080/"
    },
    "executionInfo": {
     "elapsed": 21,
     "status": "ok",
     "timestamp": 1740791693858,
     "user": {
      "displayName": "William S.",
      "userId": "16708966449686968459"
     },
     "user_tz": -660
    },
    "id": "HSy8szoaKl7H",
    "outputId": "7c648456-5ea1-4794-cf3f-888dec4f6925"
   },
   "outputs": [
    {
     "data": {
      "text/plain": [
       "<torch._C.Generator at 0x10fe4a6d0>"
      ]
     },
     "execution_count": 10,
     "metadata": {},
     "output_type": "execute_result"
    }
   ],
   "source": [
    "# Solution\n",
    "torch.manual_seed(168)"
   ]
  },
  {
   "cell_type": "markdown",
   "metadata": {
    "id": "K_O6hYheLmIF"
   },
   "source": [
    "**[3.3]** Now we will define the model architecture. In this architecture,we will create a class named CNN_MNIST consists of 2 convolutional layers using the [Conv2D](https://pytorch.org/docs/stable/generated/torch.nn.Conv2d.html) class from PyTorch. After the we will instantiate 2 fully-connected layers for making the\n",
    "predictions.\n",
    "\n",
    "##### Task:\n",
    "1. Create 2 convolutional layers with the right number of kernels, size of kernel and activation function, Max Pooling layer with [MaxPool2D](https://pytorch.org/docs/stable/generated/torch.nn.MaxPool2d.html) that will be used after each Conv2D\n",
    "2. Create 2 fully-connected lasyers and specify the right number of units and activation function\n",
    "\n",
    "Note: the first Conv2D will be the input layer so you will need to specify the input channels.\n",
    "\n",
    "**Task: You need to create 2 fully-connected layers with the relevant number of units and activation function.**"
   ]
  },
  {
   "cell_type": "code",
   "execution_count": 11,
   "metadata": {
    "id": "1XMjIxMRi4_N"
   },
   "outputs": [],
   "source": [
    "# Solution\n",
    "class CNN_MNIST (nn.Module):\n",
    "    def __init__(self):\n",
    "        super(CNN_MNIST, self).__init__()\n",
    "        # First convolutional block: Conv2d -> ReLU -> MaxPool2d\n",
    "        self.conv1 = nn.Sequential(\n",
    "            nn.Conv2d(in_channels=1, out_channels=32, kernel_size=3, stride=1, padding=1),  # Conv layer: 1 input channel (grayscale), 32 output channels, 3x3 kernel\n",
    "            nn.ReLU(),                                                                      # Activation function (ReLU)\n",
    "            nn.MaxPool2d(2, 2),                                                             # Max pooling with kernel size 2 and stride 2\n",
    "        )\n",
    "        # Second convolutional block: Conv2d -> ReLU -> MaxPool2d\n",
    "        self.conv2 = nn.Sequential(\n",
    "            nn.Conv2d(32, 64, 3, 1, 1), # Conv layer: 32 input channels, 64 output channels, 3x3 kernel\n",
    "            nn.ReLU(),                  # Activation function (ReLU)\n",
    "            nn.MaxPool2d(2, 2),         # Max pooling with kernel size 2 and stride 2\n",
    "        )\n",
    "        # fully connected layer, output 10 classes\n",
    "        self.fc1 = nn.Linear(64 * 7 * 7, 128)   # transforms flattened feature maps into 128 features\n",
    "        self.fc2 = nn.Linear(128, 10)           # transforms 128 features into 10 output classes (digits 0-9)\n",
    "\n",
    "    def forward(self, x):\n",
    "        x = self.conv1 (x)         # Pass input through first convolutional block\n",
    "        x = self.conv2(x)          # Pass output through second convolutional block\n",
    "        x = x.view(x.size(0), -1)  # Flatten the feature maps into a 1D vector for each sample\n",
    "        x = F.relu(self.fc1(x))    # Pass through first fully connected layer with ReLU activation\n",
    "        x = self.fc2(x)            # Pass through second fully connected layer (output layer)\n",
    "        return x"
   ]
  },
  {
   "cell_type": "markdown",
   "metadata": {
    "id": "GFydarg3OWfB"
   },
   "source": [
    "**[3.4]** Now save the class into a `model'. Now our architecture is ready. Lets print the model summary."
   ]
  },
  {
   "cell_type": "code",
   "execution_count": 12,
   "metadata": {
    "colab": {
     "base_uri": "https://localhost:8080/"
    },
    "executionInfo": {
     "elapsed": 2,
     "status": "ok",
     "timestamp": 1740791693867,
     "user": {
      "displayName": "William S.",
      "userId": "16708966449686968459"
     },
     "user_tz": -660
    },
    "id": "pvcnkKC9p4KB",
    "outputId": "69eb0cb8-97d2-45b1-8296-ebcee398630b"
   },
   "outputs": [
    {
     "name": "stdout",
     "output_type": "stream",
     "text": [
      "CNN_MNIST(\n",
      "  (conv1): Sequential(\n",
      "    (0): Conv2d(1, 32, kernel_size=(3, 3), stride=(1, 1), padding=(1, 1))\n",
      "    (1): ReLU()\n",
      "    (2): MaxPool2d(kernel_size=2, stride=2, padding=0, dilation=1, ceil_mode=False)\n",
      "  )\n",
      "  (conv2): Sequential(\n",
      "    (0): Conv2d(32, 64, kernel_size=(3, 3), stride=(1, 1), padding=(1, 1))\n",
      "    (1): ReLU()\n",
      "    (2): MaxPool2d(kernel_size=2, stride=2, padding=0, dilation=1, ceil_mode=False)\n",
      "  )\n",
      "  (fc1): Linear(in_features=3136, out_features=128, bias=True)\n",
      "  (fc2): Linear(in_features=128, out_features=10, bias=True)\n",
      ")\n"
     ]
    }
   ],
   "source": [
    "# Solution\n",
    "model = CNN_MNIST()\n",
    "print(model)"
   ]
  },
  {
   "cell_type": "markdown",
   "metadata": {
    "id": "0_-6ajIJQkGr"
   },
   "source": [
    "### 4. Training and Evaluation of the Model"
   ]
  },
  {
   "cell_type": "markdown",
   "metadata": {
    "id": "cITUJchKPaHB"
   },
   "source": [
    "**[4.1]** Instantiate a `nn.CrossEntropyLoss()` (https://pytorch.org/docs/stable/generated/torch.nn.CrossEntropyLoss.html) and save it into a variable called `criterion`."
   ]
  },
  {
   "cell_type": "code",
   "execution_count": 13,
   "metadata": {
    "id": "P6Zzn28bPrsN"
   },
   "outputs": [],
   "source": [
    "# Solution\n",
    "criterion = nn.CrossEntropyLoss() #loss function (CrossEntropyLoss for multi-class classification)"
   ]
  },
  {
   "cell_type": "markdown",
   "metadata": {
    "id": "E87HO0hDPw--"
   },
   "source": [
    "**[4.2]**  Instantiate a `torch.optim.Adam()` optimizer with the model's parameters and 0.001 as learning rate and save it into a variable called `optimizer`"
   ]
  },
  {
   "cell_type": "code",
   "execution_count": 14,
   "metadata": {
    "id": "1p4uy0e6Pxj0"
   },
   "outputs": [],
   "source": [
    "# Solution\n",
    "optimizer = optim.Adam(model.parameters(), lr = 0.001)"
   ]
  },
  {
   "cell_type": "markdown",
   "metadata": {
    "id": "R9IsKSoERL1x"
   },
   "source": [
    "**[4.3]**  Now we will call the DataLoader function that iteratively loads data based on batch size, and save it into two different variables called `train_dataloader`, `val_dataloader` and `test_dataloader`. Set the `batch_size` to 64."
   ]
  },
  {
   "cell_type": "code",
   "execution_count": 15,
   "metadata": {
    "id": "MlErKCoSRMR8"
   },
   "outputs": [],
   "source": [
    "# Solution\n",
    "batch_size = 64\n",
    "train_dataloader = DataLoader(train_dataset, batch_size=batch_size)\n",
    "val_dataloader = DataLoader(val_dataset, batch_size=batch_size)\n",
    "test_dataloader = DataLoader(test_data, batch_size=batch_size)"
   ]
  },
  {
   "cell_type": "markdown",
   "metadata": {
    "id": "4G1QlR0ZRtm7"
   },
   "source": [
    "**[4.4]** **Training:** Now it is time to train our model. Set the `EPOCHS` to 5 and create a for loop that will iterate based on the EPOCHS value. A nested loop is initiated that extracts data and target from train_dataloader and introduce the following logics:\n",
    "- reset the gradients\n",
    "- perform the forward propagation and get the model predictions\n",
    "- calculate the loss between the predictions and the actuals\n",
    "- perform back propagation\n",
    "- update the weights\n",
    "- Count the total loss\n",
    "\n",
    "To validate the model a nested loop is initiated that extracts images and labels from `val_dataloader` and introduce the following logics:\n",
    "- disable computing gradients (https://pytorch.org/docs/stable/generated/torch.no_grad.html)\n",
    "- perform the forward propagation and get the model predictions\n",
    "- calculate the loss between the predictions and the actuals\n",
    "- Count the total loss\n",
    "- Count the correct outcome"
   ]
  },
  {
   "cell_type": "code",
   "execution_count": 16,
   "metadata": {
    "colab": {
     "base_uri": "https://localhost:8080/"
    },
    "executionInfo": {
     "elapsed": 260398,
     "status": "ok",
     "timestamp": 1740791954290,
     "user": {
      "displayName": "William S.",
      "userId": "16708966449686968459"
     },
     "user_tz": -660
    },
    "id": "VjP19p-JjFVx",
    "outputId": "d9ef92d9-22cf-4112-f20e-b94ce82c3173"
   },
   "outputs": [
    {
     "name": "stdout",
     "output_type": "stream",
     "text": [
      "Epoch 1/5, Train Loss: 0.1898, Train Accuracy: 94.20%, Validation Loss: 0.0621, Validation Accuracy: 98.18%\n",
      "Epoch 2/5, Train Loss: 0.0536, Train Accuracy: 98.30%, Validation Loss: 0.0475, Validation Accuracy: 98.57%\n",
      "Epoch 3/5, Train Loss: 0.0344, Train Accuracy: 98.88%, Validation Loss: 0.0449, Validation Accuracy: 98.60%\n",
      "Epoch 4/5, Train Loss: 0.0251, Train Accuracy: 99.19%, Validation Loss: 0.0436, Validation Accuracy: 98.62%\n",
      "Epoch 5/5, Train Loss: 0.0193, Train Accuracy: 99.39%, Validation Loss: 0.0497, Validation Accuracy: 98.54%\n"
     ]
    }
   ],
   "source": [
    "# Solution\n",
    "# Training the model\n",
    "epochs = 5\n",
    "losses = []             # List to store individual batch losses\n",
    "train_losses = []       # Average loss per epoch for training\n",
    "train_accuracies = []   # Training accuracy per epoch\n",
    "val_losses = []         # Average loss per epoch for validation\n",
    "val_accuracies = []     # Validation accuracy per epoch\n",
    "\n",
    "for epoch in range(epochs):\n",
    "    loss_count = 0.0      # Accumulate training loss for the current epoch\n",
    "    correct_train = 0     # Count of correct predictions in training\n",
    "    total_train = 0       # Total number of training samples processed\n",
    "    for images, labels in train_dataloader:\n",
    "        predicted_outputs = model(images)             # Forward Propagation to get predicted outcome\n",
    "        loss = criterion(predicted_outputs, labels)   # Compute the loss\n",
    "        losses.append(loss.detach().numpy())          # Keep track of the losses\n",
    "        optimizer.zero_grad()                         # clear gradients for this training step\n",
    "        loss.backward()                               # Back propagation\n",
    "        optimizer.step()                              # Update the weights\n",
    "        loss_count += loss.item()                     # Accumulate training loss\n",
    "\n",
    "        _, predicted = torch.max(predicted_outputs, 1)        # Get predicted classes\n",
    "        total_train += labels.size(0)                         # Increment the total number of samples processed in the training dataset\n",
    "        correct_train += (predicted == labels).sum().item()   # Count correct predictions\n",
    "\n",
    "    train_losses.append (loss_count/len(train_dataloader))  # Append the training loss\n",
    "    train_accuracies.append(correct_train/total_train)      # Append the training accuracy\n",
    "\n",
    "    # Validation Part\n",
    "    val_loss = 0.0\n",
    "    correct_val = 0\n",
    "    total_val = 0\n",
    "\n",
    "    # Disable gradient computation during validation\n",
    "    with torch.no_grad():\n",
    "        for images, labels in val_dataloader:\n",
    "            predicted_outputs = model(images) # Forward Propagation to get predicted outcome\n",
    "            loss = criterion(predicted_outputs, labels)  # Compute the loss for validation data\n",
    "            val_loss += loss.item()  # Accumulate validation loss\n",
    "\n",
    "            _, predicted = torch.max(predicted_outputs, 1)\n",
    "            total_val += labels.size(0)\n",
    "            correct_val += (predicted == labels).sum().item()\n",
    "\n",
    "    val_losses.append(val_loss / len(val_dataloader))  # Store validation loss\n",
    "    val_accuracies.append(correct_val / total_val) # Store validation accuracy\n",
    "\n",
    "    # Printing the Results\n",
    "    print(f\"Epoch {epoch+1}/{epochs}, Train Loss: {train_losses[-1]:.4f}, Train Accuracy: {train_accuracies[-1]:.2%}, Validation Loss: {val_losses[-1]:.4f}, Validation Accuracy: {val_accuracies[-1]:.2%}\")"
   ]
  },
  {
   "cell_type": "markdown",
   "metadata": {
    "id": "tfL7wBDrW3oU"
   },
   "source": [
    "**[4.5]** **Testing:** Now it is time to test our model. Initiate the `model.eval()` along with `torch.no_grad()` to turn off the gradients. Finally calculate the total and correct value. If the predicted output equals the actual output then count the correct value."
   ]
  },
  {
   "cell_type": "code",
   "execution_count": 17,
   "metadata": {
    "id": "bb4mv99hjQdM"
   },
   "outputs": [],
   "source": [
    "# Solution\n",
    "# Evaluate the model on the test set\n",
    "model.eval()    # Set the model to evaluation mode (disables dropout, etc.)\n",
    "correct = 0\n",
    "total = 0\n",
    "# Get the predictions for the test dataset\n",
    "predicted_labels = []\n",
    "true_labels = []\n",
    "\n",
    "with torch.no_grad():\n",
    "    for images, labels in test_dataloader:\n",
    "        outputs = model(images)                           # get the predicted outcome\n",
    "        predicted = torch.max(outputs, 1)[1].squeeze()    # Determine predicted classes\n",
    "        total += labels.size(0)\n",
    "        correct += (predicted == labels).sum().item()\n",
    "        predicted_labels.extend(predicted.tolist())\n",
    "        true_labels.extend(labels.tolist())\n"
   ]
  },
  {
   "cell_type": "markdown",
   "metadata": {
    "id": "D-s6qro3Z0-Z"
   },
   "source": [
    "### 5. Analysing the Results"
   ]
  },
  {
   "cell_type": "markdown",
   "metadata": {
    "id": "fTLCuqPcZ1JR"
   },
   "source": [
    "**[5.1]** Let's calculate the `accuracy` of the model by dividing the correct value with the total value and print the `accuracy`."
   ]
  },
  {
   "cell_type": "code",
   "execution_count": 18,
   "metadata": {
    "colab": {
     "base_uri": "https://localhost:8080/"
    },
    "executionInfo": {
     "elapsed": 5,
     "status": "ok",
     "timestamp": 1740791960081,
     "user": {
      "displayName": "William S.",
      "userId": "16708966449686968459"
     },
     "user_tz": -660
    },
    "id": "PnNcf8HyjRLB",
    "outputId": "d8056b1b-cac8-471e-c90a-7a2f017cd3b9"
   },
   "outputs": [
    {
     "name": "stdout",
     "output_type": "stream",
     "text": [
      "Accuracy on the test set: 98.82%\n"
     ]
    }
   ],
   "source": [
    "# Solution\n",
    "accuracy = correct / total\n",
    "print(f\"Accuracy on the test set: {accuracy:.2%}\")"
   ]
  },
  {
   "cell_type": "markdown",
   "metadata": {
    "id": "fjmbWMyAiciV"
   },
   "source": [
    "**[5.2]** Let's plot the training and validation losses based on `train_losses` and `val_losses`."
   ]
  },
  {
   "cell_type": "code",
   "execution_count": 19,
   "metadata": {
    "colab": {
     "base_uri": "https://localhost:8080/",
     "height": 472
    },
    "executionInfo": {
     "elapsed": 440,
     "status": "ok",
     "timestamp": 1740791960522,
     "user": {
      "displayName": "William S.",
      "userId": "16708966449686968459"
     },
     "user_tz": -660
    },
    "id": "SGiBezEZhm52",
    "outputId": "8679305a-d706-4d84-f1a5-ba1a7aaecfa0"
   },
   "outputs": [
    {
     "data": {
      "image/png": "[encoded data removed]",
      "text/plain": [
       "<Figure size 640x480 with 1 Axes>"
      ]
     },
     "metadata": {},
     "output_type": "display_data"
    }
   ],
   "source": [
    "# Solution\n",
    "import matplotlib.pyplot as plt\n",
    "\n",
    "plt.plot(train_losses, label='Training Loss')\n",
    "plt.plot(val_losses, label='Validation Loss')\n",
    "plt.xlabel('Epoch')\n",
    "plt.ylabel('Loss')\n",
    "plt.title('Training and Validation Losses')\n",
    "plt.legend()\n",
    "plt.show()"
   ]
  },
  {
   "cell_type": "markdown",
   "metadata": {
    "id": "uHH8LFQ_iyju"
   },
   "source": [
    "**[5.3]** Let's plot the training and validation accuracies based on `train_accuracies` and `val_accuracies`."
   ]
  },
  {
   "cell_type": "code",
   "execution_count": 20,
   "metadata": {
    "colab": {
     "base_uri": "https://localhost:8080/",
     "height": 472
    },
    "executionInfo": {
     "elapsed": 330,
     "status": "ok",
     "timestamp": 1740791960853,
     "user": {
      "displayName": "William S.",
      "userId": "16708966449686968459"
     },
     "user_tz": -660
    },
    "id": "lLfW9iOch_XD",
    "outputId": "7ab84376-24a3-4c18-c8f4-31478c821a94"
   },
   "outputs": [
    {
     "data": {
      "image/png": "[encoded data removed]",
      "text/plain": [
       "<Figure size 640x480 with 1 Axes>"
      ]
     },
     "metadata": {},
     "output_type": "display_data"
    }
   ],
   "source": [
    "# Solution\n",
    "plt.plot(train_accuracies, label='Training Accuracy')\n",
    "plt.plot(val_accuracies, label='Validation Accuracy')\n",
    "plt.xlabel('Epoch')\n",
    "plt.ylabel('Accuracy')\n",
    "plt.title('Training and Validation Accuracies')\n",
    "plt.legend()\n",
    "plt.show()"
   ]
  },
  {
   "cell_type": "markdown",
   "metadata": {
    "id": "rQBFcJtEaEJh"
   },
   "source": [
    "**[5.4]** Now we can calculate the confusion matrix using the [confusion_matrix()] (https://pytorch.org/ignite/generated/ignite.metrics.confusion_matrix.ConfusionMatrix.html) method from PyTorch."
   ]
  },
  {
   "cell_type": "code",
   "execution_count": 21,
   "metadata": {
    "id": "PhSohyPVJqz0"
   },
   "outputs": [],
   "source": [
    "# Solution\n",
    "# Calculate the confusion matrix\n",
    "from sklearn.metrics import confusion_matrix\n",
    "conf_matrix = confusion_matrix(true_labels, predicted_labels)"
   ]
  },
  {
   "cell_type": "markdown",
   "metadata": {
    "id": "s9Ps_NsBaMP6"
   },
   "source": [
    "**[5.5]** Let's plot the confusion matrix."
   ]
  },
  {
   "cell_type": "code",
   "execution_count": 22,
   "metadata": {
    "colab": {
     "base_uri": "https://localhost:8080/",
     "height": 718
    },
    "executionInfo": {
     "elapsed": 958,
     "status": "ok",
     "timestamp": 1740791962329,
     "user": {
      "displayName": "William S.",
      "userId": "16708966449686968459"
     },
     "user_tz": -660
    },
    "id": "YlrYyYW6KObh",
    "outputId": "8af2b5ac-96c8-4761-eb14-dd0f9c089981"
   },
   "outputs": [
    {
     "data": {
      "image/png": "[encoded data removed]",
      "text/plain": [
       "<Figure size 1000x800 with 1 Axes>"
      ]
     },
     "metadata": {},
     "output_type": "display_data"
    }
   ],
   "source": [
    "# Solution\n",
    "# Import the packages for plotting the graph\n",
    "import seaborn as sns\n",
    "# Plotting the confusion matrix\n",
    "plt.figure(figsize=(10, 8))\n",
    "sns.heatmap(conf_matrix, annot=True, fmt='d', cmap='Blues', cbar=False)\n",
    "plt.xlabel('Predicted labels')\n",
    "plt.ylabel('True labels')\n",
    "plt.title('Confusion Matrix')\n",
    "plt.show()"
   ]
  },
  {
   "cell_type": "markdown",
   "metadata": {
    "id": "vXxD84_aaZyW"
   },
   "source": [
    "**[5.6]** Get some random training images by using next(iter(dataloader)) [https://pytorch.org/tutorials/beginner/blitz/cifar10_tutorial.html]"
   ]
  },
  {
   "cell_type": "code",
   "execution_count": 23,
   "metadata": {
    "id": "1aCItgaSK_u8"
   },
   "outputs": [],
   "source": [
    "# Solution\n",
    "dataiter = iter(test_dataloader)\n",
    "imags, labls = next(dataiter)"
   ]
  },
  {
   "cell_type": "markdown",
   "metadata": {
    "id": "cDTQB6Edad_9"
   },
   "source": [
    "**[5.7]** Let's access the first 10 data from test data and save it to actual_data."
   ]
  },
  {
   "cell_type": "code",
   "execution_count": 24,
   "metadata": {
    "colab": {
     "base_uri": "https://localhost:8080/"
    },
    "executionInfo": {
     "elapsed": 3,
     "status": "ok",
     "timestamp": 1740791962347,
     "user": {
      "displayName": "William S.",
      "userId": "16708966449686968459"
     },
     "user_tz": -660
    },
    "id": "QhsS3c9iLLG_",
    "outputId": "c96dbed9-1e74-47de-fa34-416d00272d9f"
   },
   "outputs": [
    {
     "data": {
      "text/plain": [
       "array([7, 2, 1, 0, 4, 1, 4, 9, 5, 9])"
      ]
     },
     "execution_count": 24,
     "metadata": {},
     "output_type": "execute_result"
    }
   ],
   "source": [
    "# Solution\n",
    "actual_data = labls[:10].numpy()\n",
    "actual_data"
   ]
  },
  {
   "cell_type": "markdown",
   "metadata": {
    "id": "FMvYL-QBaf6U"
   },
   "source": [
    "**[5.8]** Let's compare this prediction to the actual true value"
   ]
  },
  {
   "cell_type": "code",
   "execution_count": 25,
   "metadata": {
    "colab": {
     "base_uri": "https://localhost:8080/"
    },
    "executionInfo": {
     "elapsed": 7,
     "status": "ok",
     "timestamp": 1740791962354,
     "user": {
      "displayName": "William S.",
      "userId": "16708966449686968459"
     },
     "user_tz": -660
    },
    "id": "qjY647dLMX4N",
    "outputId": "531214c0-7a3c-4432-88f6-e90a6d9017ea"
   },
   "outputs": [
    {
     "name": "stdout",
     "output_type": "stream",
     "text": [
      "Prediction number: [7 2 1 0 4 1 4 9 5 9]\n",
      "Actual number: [7 2 1 0 4 1 4 9 5 9]\n"
     ]
    }
   ],
   "source": [
    "# Solution\n",
    "outputs = model(imags[:10])\n",
    "predicted_data = torch.max(outputs, 1)[1].data.numpy().squeeze()\n",
    "print(f'Prediction number: {predicted_data}')\n",
    "print(f'Actual number: {actual_data}')"
   ]
  }
 ],
 "metadata": {
  "accelerator": "GPU",
  "colab": {
   "gpuType": "T4",
   "provenance": [
    {
     "file_id": "18nHEGkoziV4L9vxguFw-7ttRsbfjrz5r",
     "timestamp": 1725878143408
    },
    {
     "file_id": "1jPTK1iaRGCTO-y8dGb7tmEd34kCAF3gM",
     "timestamp": 1710574045400
    },
    {
     "file_id": "1EbXCMfe6YoNsLNHVgmMtMYje7FfTfWnd",
     "timestamp": 1710020914167
    },
    {
     "file_id": "1LazTnQvZifWG4-GwdShPutsWtFNT5HQ7",
     "timestamp": 1709448500153
    },
    {
     "file_id": "1_uL5ruKnCyBVW5JJaGATDHnwOMPDLKkI",
     "timestamp": 1709426989040
    },
    {
     "file_id": "1m18tdQD7hs5HWtHYLxxEsVt83JUFIFjp",
     "timestamp": 1709338649574
    },
    {
     "file_id": "1feBQkYEdrZDLtUssYeFGlIHWth4aUSwn",
     "timestamp": 1648016790753
    }
   ]
  },
  "kernelspec": {
   "display_name": ".venv",
   "language": "python",
   "name": "python3"
  },
  "language_info": {
   "codemirror_mode": {
    "name": "ipython",
    "version": 3
   },
   "file_extension": ".py",
   "mimetype": "text/x-python",
   "name": "python",
   "nbconvert_exporter": "python",
   "pygments_lexer": "ipython3",
   "version": "3.11.10"
  }
 },
 "nbformat": 4,
 "nbformat_minor": 0
}
