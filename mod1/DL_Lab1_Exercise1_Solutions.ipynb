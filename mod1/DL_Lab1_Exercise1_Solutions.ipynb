{
 "nbformat": 4,
 "nbformat_minor": 0,
 "metadata": {
  "colab": {
   "provenance": [
    {
     "file_id": "1yDc9lLFhJ6EOTjJdtisCu8jNLYFsWAFU",
     "timestamp": 1725873430012
    }
   ],
   "gpuType": "T4"
  },
  "kernelspec": {
   "name": "python3",
   "display_name": "Python 3 (ipykernel)",
   "language": "python"
  },
  "language_info": {
   "name": "python"
  },
  "accelerator": "GPU"
 },
 "cells": [
  {
   "cell_type": "markdown",
   "source": [
    "# **Lab: PyTorch**"
   ],
   "metadata": {
    "id": "Q56CMqdrfFNs"
   }
  },
  {
   "cell_type": "code",
   "source": [
    "#from google.colab import drive\n",
    "#drive.mount('/content/drive')"
   ],
   "metadata": {
    "id": "mgNPwifZIgCc",
    "colab": {
     "base_uri": "https://localhost:8080/"
    },
    "executionInfo": {
     "status": "ok",
     "timestamp": 1738293650603,
     "user_tz": -660,
     "elapsed": 22811,
     "user": {
      "displayName": "William S.",
      "userId": "16708966449686968459"
     }
    },
    "outputId": "efebe624-a38e-4e41-fe31-ca7f7628113f"
   },
   "execution_count": null,
   "outputs": [
    {
     "output_type": "stream",
     "name": "stdout",
     "text": [
      "Mounted at /content/drive\n"
     ]
    }
   ]
  },
  {
   "cell_type": "markdown",
   "source": [
    "## Exercise 1: Manipulating Tensors\n",
    "\n",
    "In this exercise, we will learn how to create tensors using PyTorch\n",
    "\n",
    "The steps are:\n",
    "1.   Import PyTorch\n",
    "2.   Create Scalars\n",
    "3.   Create Vectors\n",
    "4.   Create Matrices\n",
    "5.   Create Tensors\n",
    "6.   Compatibility with Numpy\n",
    "7.   Reshape Tensors\n",
    "\n",
    "\n"
   ],
   "metadata": {
    "id": "TEEs02x8LIYO"
   }
  },
  {
   "cell_type": "markdown",
   "source": [
    "### 1. Import PyTorch"
   ],
   "metadata": {
    "id": "Q8UIptoMgGH0"
   }
  },
  {
   "cell_type": "markdown",
   "source": [
    "**[1.1]** Import PyTorch and numpy packages"
   ],
   "metadata": {
    "id": "4RihfoLWhDr-"
   }
  },
  {
   "cell_type": "code",
   "source": [
    "# Placeholder for student's code"
   ],
   "metadata": {
    "id": "VsWBN2cthJhG"
   },
   "execution_count": null,
   "outputs": []
  },
  {
   "cell_type": "code",
   "metadata": {
    "id": "KmpLM-i5JRzx",
    "ExecuteTime": {
     "end_time": "2025-02-23T07:49:53.731742Z",
     "start_time": "2025-02-23T07:49:49.998574Z"
    }
   },
   "source": [
    "# Solution\n",
    "import torch\n",
    "import numpy as np"
   ],
   "outputs": [],
   "execution_count": 1
  },
  {
   "cell_type": "markdown",
   "source": [
    "**[1.2]** Print the version of PyTorch"
   ],
   "metadata": {
    "id": "E3LyA2rnhQJD"
   }
  },
  {
   "cell_type": "code",
   "source": [
    "# Placeholder for student's code"
   ],
   "metadata": {
    "id": "WefNA4-fhVPK"
   },
   "execution_count": null,
   "outputs": []
  },
  {
   "cell_type": "code",
   "source": [
    "# Solution\n",
    "torch.__version__"
   ],
   "metadata": {
    "colab": {
     "base_uri": "https://localhost:8080/",
     "height": 35
    },
    "id": "b4nUq9toX-lG",
    "executionInfo": {
     "status": "ok",
     "timestamp": 1738293358310,
     "user_tz": -660,
     "elapsed": 5,
     "user": {
      "displayName": "William S.",
      "userId": "16708966449686968459"
     }
    },
    "outputId": "b0693792-434b-436d-d599-f37b1618551b",
    "ExecuteTime": {
     "end_time": "2025-02-23T07:49:56.858872Z",
     "start_time": "2025-02-23T07:49:56.855226Z"
    }
   },
   "outputs": [
    {
     "data": {
      "text/plain": [
       "'2.6.0'"
      ]
     },
     "execution_count": 2,
     "metadata": {},
     "output_type": "execute_result"
    }
   ],
   "execution_count": 2
  },
  {
   "cell_type": "markdown",
   "source": [
    "### 2.   Create Scalars"
   ],
   "metadata": {
    "id": "VlCWcDo4gHLJ"
   }
  },
  {
   "cell_type": "markdown",
   "source": [
    "**[2.1]** Create a scalar that will contain the value 4 and name it `scalar1`"
   ],
   "metadata": {
    "id": "D1P2tnUPhWGx"
   }
  },
  {
   "cell_type": "code",
   "source": [
    "# Placeholder for student's code"
   ],
   "metadata": {
    "id": "dtLYIYrVhWci"
   },
   "execution_count": null,
   "outputs": []
  },
  {
   "cell_type": "code",
   "source": [
    "# Solution\n",
    "scalar1 = torch.tensor(4)\n",
    "scalar1"
   ],
   "metadata": {
    "colab": {
     "base_uri": "https://localhost:8080/"
    },
    "id": "rVn44x0NLFcn",
    "executionInfo": {
     "status": "ok",
     "timestamp": 1738293362653,
     "user_tz": -660,
     "elapsed": 357,
     "user": {
      "displayName": "William S.",
      "userId": "16708966449686968459"
     }
    },
    "outputId": "21f5c231-7a29-4f20-d656-fcae5b94bc89",
    "ExecuteTime": {
     "end_time": "2025-02-23T07:50:01.463077Z",
     "start_time": "2025-02-23T07:50:01.457249Z"
    }
   },
   "outputs": [
    {
     "data": {
      "text/plain": [
       "tensor(4)"
      ]
     },
     "execution_count": 3,
     "metadata": {},
     "output_type": "execute_result"
    }
   ],
   "execution_count": 3
  },
  {
   "cell_type": "markdown",
   "source": [
    "**[2.2]** Print the dimensions of `scalar1`"
   ],
   "metadata": {
    "id": "pl4Olec3hXHH"
   }
  },
  {
   "cell_type": "code",
   "source": [
    "# Placeholder for student's code"
   ],
   "metadata": {
    "id": "ygAsqWCMhXM7"
   },
   "execution_count": null,
   "outputs": []
  },
  {
   "cell_type": "code",
   "source": [
    "# Solution\n",
    "scalar1.shape"
   ],
   "metadata": {
    "colab": {
     "base_uri": "https://localhost:8080/"
    },
    "id": "ORQdvDVvLFn3",
    "executionInfo": {
     "status": "ok",
     "timestamp": 1738293364379,
     "user_tz": -660,
     "elapsed": 334,
     "user": {
      "displayName": "William S.",
      "userId": "16708966449686968459"
     }
    },
    "outputId": "b06761a2-5481-464e-e7f6-af7c4b6f773e",
    "ExecuteTime": {
     "end_time": "2025-02-23T07:50:04.999286Z",
     "start_time": "2025-02-23T07:50:04.997271Z"
    }
   },
   "outputs": [
    {
     "data": {
      "text/plain": [
       "torch.Size([])"
      ]
     },
     "execution_count": 4,
     "metadata": {},
     "output_type": "execute_result"
    }
   ],
   "execution_count": 4
  },
  {
   "cell_type": "markdown",
   "source": [
    "**[2.3]** Print the rank of `scalar1`"
   ],
   "metadata": {
    "id": "HL1NfXONhXxx"
   }
  },
  {
   "cell_type": "code",
   "source": [
    "# Placeholder for student's code"
   ],
   "metadata": {
    "id": "HeQjUlQghX2g"
   },
   "execution_count": null,
   "outputs": []
  },
  {
   "cell_type": "code",
   "source": [
    "# Solution\n",
    "scalar1.ndim"
   ],
   "metadata": {
    "colab": {
     "base_uri": "https://localhost:8080/"
    },
    "id": "4ncIatnxLFqR",
    "executionInfo": {
     "status": "ok",
     "timestamp": 1738293365783,
     "user_tz": -660,
     "elapsed": 330,
     "user": {
      "displayName": "William S.",
      "userId": "16708966449686968459"
     }
    },
    "outputId": "5cb79dbe-820a-402e-d608-f9323404818a",
    "ExecuteTime": {
     "end_time": "2025-02-23T07:50:12.442918Z",
     "start_time": "2025-02-23T07:50:12.440921Z"
    }
   },
   "outputs": [
    {
     "data": {
      "text/plain": [
       "0"
      ]
     },
     "execution_count": 5,
     "metadata": {},
     "output_type": "execute_result"
    }
   ],
   "execution_count": 5
  },
  {
   "cell_type": "markdown",
   "source": [
    "**[2.4]** Print the data type of `scalar1`"
   ],
   "metadata": {
    "id": "n6uUV8pmhYep"
   }
  },
  {
   "cell_type": "code",
   "source": [
    "# Placeholder for student's code"
   ],
   "metadata": {
    "id": "8mVc55yIhYja"
   },
   "execution_count": null,
   "outputs": []
  },
  {
   "cell_type": "code",
   "source": [
    "# Solution\n",
    "scalar1.dtype"
   ],
   "metadata": {
    "colab": {
     "base_uri": "https://localhost:8080/"
    },
    "id": "bcG46v5BLmI3",
    "executionInfo": {
     "status": "ok",
     "timestamp": 1738293367739,
     "user_tz": -660,
     "elapsed": 348,
     "user": {
      "displayName": "William S.",
      "userId": "16708966449686968459"
     }
    },
    "outputId": "32a21a39-a35f-449f-ee60-2b002ae9052b",
    "ExecuteTime": {
     "end_time": "2025-02-23T07:50:24.693421Z",
     "start_time": "2025-02-23T07:50:24.691331Z"
    }
   },
   "outputs": [
    {
     "data": {
      "text/plain": [
       "torch.int64"
      ]
     },
     "execution_count": 6,
     "metadata": {},
     "output_type": "execute_result"
    }
   ],
   "execution_count": 6
  },
  {
   "cell_type": "markdown",
   "source": [
    "**[2.5]** Print the device used by `scalar1`"
   ],
   "metadata": {
    "id": "UGl2iku9hZNt"
   }
  },
  {
   "cell_type": "code",
   "source": [
    "# Placeholder for student's code"
   ],
   "metadata": {
    "id": "8_xESSkdhZTf"
   },
   "execution_count": null,
   "outputs": []
  },
  {
   "cell_type": "code",
   "source": [
    "# Solution\n",
    "b = scalar1.device\n",
    "b"
   ],
   "metadata": {
    "colab": {
     "base_uri": "https://localhost:8080/"
    },
    "id": "aB3XXRUfLo4z",
    "executionInfo": {
     "status": "ok",
     "timestamp": 1738293370053,
     "user_tz": -660,
     "elapsed": 341,
     "user": {
      "displayName": "William S.",
      "userId": "16708966449686968459"
     }
    },
    "outputId": "351647d1-8db7-4bfe-9072-c209351a3e31",
    "ExecuteTime": {
     "end_time": "2025-02-23T07:50:27.690792Z",
     "start_time": "2025-02-23T07:50:27.688551Z"
    }
   },
   "outputs": [
    {
     "data": {
      "text/plain": [
       "device(type='cpu')"
      ]
     },
     "execution_count": 7,
     "metadata": {},
     "output_type": "execute_result"
    }
   ],
   "execution_count": 7
  },
  {
   "cell_type": "markdown",
   "source": [
    "**[2.6]** Change the runtime type by adding GPU as hardware accelerator, run all the previous cells and print the device used now by `scalar1`"
   ],
   "metadata": {
    "id": "BRjVdG-BhbdF"
   }
  },
  {
   "cell_type": "code",
   "source": [
    "# Placeholder for student's code"
   ],
   "metadata": {
    "id": "EqNNnWvLhbjc"
   },
   "execution_count": null,
   "outputs": []
  },
  {
   "cell_type": "code",
   "source": [
    "# Solution\n",
    "device = torch.device(\"mps\" if torch.backends.mps.is_available() else \"cpu\")\n",
    "b = scalar1.to(device) # Please check that you have an NVIDIA GPU and the driver is installed\n",
    "b.device"
   ],
   "metadata": {
    "colab": {
     "base_uri": "https://localhost:8080/"
    },
    "id": "MfNbn9PGhb4F",
    "executionInfo": {
     "status": "ok",
     "timestamp": 1738293371903,
     "user_tz": -660,
     "elapsed": 335,
     "user": {
      "displayName": "William S.",
      "userId": "16708966449686968459"
     }
    },
    "outputId": "99bdd3ef-d0a6-4c2f-8c7b-414d5df3be18",
    "ExecuteTime": {
     "end_time": "2025-02-23T07:53:15.841338Z",
     "start_time": "2025-02-23T07:53:15.771882Z"
    }
   },
   "outputs": [
    {
     "data": {
      "text/plain": [
       "device(type='mps', index=0)"
      ]
     },
     "execution_count": 10,
     "metadata": {},
     "output_type": "execute_result"
    }
   ],
   "execution_count": 10
  },
  {
   "cell_type": "markdown",
   "source": [
    "**[2.7]** Check that NVIDIA driver is correctly installed (https://pytorch.org/docs/stable/generated/torch.cuda.is_available.html#torch.cuda.is_available)"
   ],
   "metadata": {
    "id": "qSh7vrycYKe_"
   }
  },
  {
   "cell_type": "code",
   "source": "torch.backends.mps.is_available() # If returns TRUE that means the NVIDIA driver is correctly installed",
   "metadata": {
    "colab": {
     "base_uri": "https://localhost:8080/"
    },
    "id": "nXUDcThvYPt1",
    "executionInfo": {
     "status": "ok",
     "timestamp": 1738293373679,
     "user_tz": -660,
     "elapsed": 331,
     "user": {
      "displayName": "William S.",
      "userId": "16708966449686968459"
     }
    },
    "outputId": "aa659a94-8879-45d9-ecca-b6d6c1b5a893",
    "ExecuteTime": {
     "end_time": "2025-02-23T07:53:55.028053Z",
     "start_time": "2025-02-23T07:53:55.025693Z"
    }
   },
   "outputs": [
    {
     "data": {
      "text/plain": [
       "True"
      ]
     },
     "execution_count": 12,
     "metadata": {},
     "output_type": "execute_result"
    }
   ],
   "execution_count": 12
  },
  {
   "cell_type": "markdown",
   "source": [
    "\n",
    "### 3.   Create Vectors"
   ],
   "metadata": {
    "id": "RqB5S0RhgI8J"
   }
  },
  {
   "cell_type": "markdown",
   "source": [
    "**[3.1]** Create a vector that will contain the values 2, 3, and 4 and name it `vector1`"
   ],
   "metadata": {
    "id": "te5K_aKxiUqW"
   }
  },
  {
   "cell_type": "code",
   "source": [
    "# Placeholder for student's code"
   ],
   "metadata": {
    "id": "Im9ihDlMiUv2"
   },
   "execution_count": null,
   "outputs": []
  },
  {
   "cell_type": "code",
   "source": [
    "# Solution\n",
    "vector1 = torch.tensor([2.0, 3.0, 4.0])\n",
    "vector1"
   ],
   "metadata": {
    "colab": {
     "base_uri": "https://localhost:8080/"
    },
    "id": "mDRS4AS-LFsZ",
    "executionInfo": {
     "status": "ok",
     "timestamp": 1738293375507,
     "user_tz": -660,
     "elapsed": 319,
     "user": {
      "displayName": "William S.",
      "userId": "16708966449686968459"
     }
    },
    "outputId": "aae906b4-a1ef-4484-e0f2-27ca9d3c53e1",
    "ExecuteTime": {
     "end_time": "2025-02-23T07:54:01.426957Z",
     "start_time": "2025-02-23T07:54:01.423062Z"
    }
   },
   "outputs": [
    {
     "data": {
      "text/plain": [
       "tensor([2., 3., 4.])"
      ]
     },
     "execution_count": 13,
     "metadata": {},
     "output_type": "execute_result"
    }
   ],
   "execution_count": 13
  },
  {
   "cell_type": "markdown",
   "source": [
    "**[3.2]** Print the dimensions and rank of `vector1`"
   ],
   "metadata": {
    "id": "yV8BtZ1CiVRA"
   }
  },
  {
   "cell_type": "code",
   "source": [
    "# Placeholder for student's code"
   ],
   "metadata": {
    "id": "4otjUEltiVV-"
   },
   "execution_count": null,
   "outputs": []
  },
  {
   "cell_type": "code",
   "source": [
    "# Solution\n",
    "print(vector1.shape)\n",
    "print(vector1.ndim)"
   ],
   "metadata": {
    "colab": {
     "base_uri": "https://localhost:8080/"
    },
    "id": "TXQHbV4bLFuj",
    "executionInfo": {
     "status": "ok",
     "timestamp": 1738293376858,
     "user_tz": -660,
     "elapsed": 327,
     "user": {
      "displayName": "William S.",
      "userId": "16708966449686968459"
     }
    },
    "outputId": "caaa4f65-bccc-4f3b-81bb-b25347cf0454",
    "ExecuteTime": {
     "end_time": "2025-02-23T07:54:05.156144Z",
     "start_time": "2025-02-23T07:54:05.154238Z"
    }
   },
   "outputs": [
    {
     "name": "stdout",
     "output_type": "stream",
     "text": [
      "torch.Size([3])\n",
      "1\n"
     ]
    }
   ],
   "execution_count": 14
  },
  {
   "cell_type": "markdown",
   "source": [
    "**[3.3]** Print the first element of `vector1`"
   ],
   "metadata": {
    "id": "PdZcmt5jiV1N"
   }
  },
  {
   "cell_type": "code",
   "source": [
    "# Placeholder for student's code"
   ],
   "metadata": {
    "id": "REflzFG2iV6L"
   },
   "execution_count": null,
   "outputs": []
  },
  {
   "cell_type": "code",
   "source": [
    "# Solution\n",
    "vector1[0]"
   ],
   "metadata": {
    "colab": {
     "base_uri": "https://localhost:8080/"
    },
    "id": "iE32O2-XL1JP",
    "executionInfo": {
     "status": "ok",
     "timestamp": 1738293378214,
     "user_tz": -660,
     "elapsed": 313,
     "user": {
      "displayName": "William S.",
      "userId": "16708966449686968459"
     }
    },
    "outputId": "3c3003b5-0cf0-42ee-b1d5-635f300ca26e",
    "ExecuteTime": {
     "end_time": "2025-02-23T07:54:09.815746Z",
     "start_time": "2025-02-23T07:54:09.813207Z"
    }
   },
   "outputs": [
    {
     "data": {
      "text/plain": [
       "tensor(2.)"
      ]
     },
     "execution_count": 15,
     "metadata": {},
     "output_type": "execute_result"
    }
   ],
   "execution_count": 15
  },
  {
   "cell_type": "markdown",
   "source": [
    "**[3.4]** Print the elements of `vector1` from the second index"
   ],
   "metadata": {
    "id": "orcGBS2MiWdf"
   }
  },
  {
   "cell_type": "code",
   "source": [
    "# Placeholder for student's code"
   ],
   "metadata": {
    "id": "rgIKOsS6iWiR"
   },
   "execution_count": null,
   "outputs": []
  },
  {
   "cell_type": "code",
   "source": [
    "# Solution\n",
    "vector1[1:]"
   ],
   "metadata": {
    "colab": {
     "base_uri": "https://localhost:8080/"
    },
    "id": "vrrc0rbJL7JD",
    "executionInfo": {
     "status": "ok",
     "timestamp": 1738293379411,
     "user_tz": -660,
     "elapsed": 2,
     "user": {
      "displayName": "William S.",
      "userId": "16708966449686968459"
     }
    },
    "outputId": "6612ac64-c2ec-4d64-a379-4120b327f76b",
    "ExecuteTime": {
     "end_time": "2025-02-23T07:54:13.013996Z",
     "start_time": "2025-02-23T07:54:13.011065Z"
    }
   },
   "outputs": [
    {
     "data": {
      "text/plain": [
       "tensor([3., 4.])"
      ]
     },
     "execution_count": 16,
     "metadata": {},
     "output_type": "execute_result"
    }
   ],
   "execution_count": 16
  },
  {
   "cell_type": "markdown",
   "source": [
    "### 4.   Create Matrices"
   ],
   "metadata": {
    "id": "REp1cr9jgLpO"
   }
  },
  {
   "cell_type": "markdown",
   "source": [
    "**[4.1]** Create a matrix that will contain the following values and name it `matrix1`: [1, 2], [3, 4], [5, 6]"
   ],
   "metadata": {
    "id": "BcJmwk5yiv75"
   }
  },
  {
   "cell_type": "code",
   "source": [
    "# Placeholder for student's code"
   ],
   "metadata": {
    "id": "FUXvKlKjiwCr"
   },
   "execution_count": null,
   "outputs": []
  },
  {
   "cell_type": "code",
   "source": [
    "# Solution\n",
    "matrix1 = torch.tensor([[1, 2], [3, 4], [5, 6]], dtype=torch.float16)\n",
    "matrix1"
   ],
   "metadata": {
    "colab": {
     "base_uri": "https://localhost:8080/"
    },
    "id": "FL1PLqh6L-3E",
    "executionInfo": {
     "status": "ok",
     "timestamp": 1738293380732,
     "user_tz": -660,
     "elapsed": 304,
     "user": {
      "displayName": "William S.",
      "userId": "16708966449686968459"
     }
    },
    "outputId": "83924798-b8ab-4716-94d9-cdc9e6a38ac5",
    "ExecuteTime": {
     "end_time": "2025-02-23T07:54:27.420875Z",
     "start_time": "2025-02-23T07:54:27.417557Z"
    }
   },
   "outputs": [
    {
     "data": {
      "text/plain": [
       "tensor([[1., 2.],\n",
       "        [3., 4.],\n",
       "        [5., 6.]], dtype=torch.float16)"
      ]
     },
     "execution_count": 18,
     "metadata": {},
     "output_type": "execute_result"
    }
   ],
   "execution_count": 18
  },
  {
   "cell_type": "markdown",
   "source": [
    "**[4.2]** Print the dimensions and rank of `matrix1`"
   ],
   "metadata": {
    "id": "VeKvifvWiwoB"
   }
  },
  {
   "cell_type": "code",
   "source": [
    "# Placeholder for student's code"
   ],
   "metadata": {
    "id": "KzngQKMaiwsz"
   },
   "execution_count": null,
   "outputs": []
  },
  {
   "cell_type": "code",
   "source": [
    "# Solution\n",
    "print(matrix1.shape)\n",
    "print(matrix1.ndim)"
   ],
   "metadata": {
    "colab": {
     "base_uri": "https://localhost:8080/"
    },
    "id": "Lx9oOyFjMt2L",
    "executionInfo": {
     "status": "ok",
     "timestamp": 1738293382274,
     "user_tz": -660,
     "elapsed": 328,
     "user": {
      "displayName": "William S.",
      "userId": "16708966449686968459"
     }
    },
    "outputId": "19ccf80c-3448-4180-e5f2-abbf773755af",
    "ExecuteTime": {
     "end_time": "2025-02-23T07:54:44.524914Z",
     "start_time": "2025-02-23T07:54:44.522740Z"
    }
   },
   "outputs": [
    {
     "name": "stdout",
     "output_type": "stream",
     "text": [
      "torch.Size([3, 2])\n",
      "2\n"
     ]
    }
   ],
   "execution_count": 19
  },
  {
   "cell_type": "markdown",
   "source": [
    "**[4.3]** Print the first dimension of `matrix1`"
   ],
   "metadata": {
    "id": "xii-TSlpixZ2"
   }
  },
  {
   "cell_type": "code",
   "source": [
    "# Placeholder for student's code"
   ],
   "metadata": {
    "id": "V2GkWqwoixeL"
   },
   "execution_count": null,
   "outputs": []
  },
  {
   "cell_type": "code",
   "source": [
    "# Solution\n",
    "matrix1[0]"
   ],
   "metadata": {
    "colab": {
     "base_uri": "https://localhost:8080/"
    },
    "id": "U3Hm1GfAMx2D",
    "executionInfo": {
     "status": "ok",
     "timestamp": 1738293383940,
     "user_tz": -660,
     "elapsed": 343,
     "user": {
      "displayName": "William S.",
      "userId": "16708966449686968459"
     }
    },
    "outputId": "de87dc61-349e-4aa5-8d75-06eec544e3af",
    "ExecuteTime": {
     "end_time": "2025-02-23T07:54:47.062807Z",
     "start_time": "2025-02-23T07:54:47.060218Z"
    }
   },
   "outputs": [
    {
     "data": {
      "text/plain": [
       "tensor([1., 2.], dtype=torch.float16)"
      ]
     },
     "execution_count": 20,
     "metadata": {},
     "output_type": "execute_result"
    }
   ],
   "execution_count": 20
  },
  {
   "cell_type": "markdown",
   "source": [
    "**[4.4]** Print the second element of the first dimension of `matrix1`"
   ],
   "metadata": {
    "id": "AUN-tudEix_U"
   }
  },
  {
   "cell_type": "code",
   "source": [
    "# Placeholder for student's code"
   ],
   "metadata": {
    "id": "4OHMi1JsiyEQ"
   },
   "execution_count": null,
   "outputs": []
  },
  {
   "cell_type": "code",
   "source": [
    "# Solution\n",
    "matrix1[2][0]"
   ],
   "metadata": {
    "colab": {
     "base_uri": "https://localhost:8080/"
    },
    "id": "4ehdfxB9MzRl",
    "executionInfo": {
     "status": "ok",
     "timestamp": 1738293384856,
     "user_tz": -660,
     "elapsed": 1,
     "user": {
      "displayName": "William S.",
      "userId": "16708966449686968459"
     }
    },
    "outputId": "293cc4ec-b0ec-441a-c265-8c67d1d562c3",
    "ExecuteTime": {
     "end_time": "2025-02-23T07:54:50.933115Z",
     "start_time": "2025-02-23T07:54:50.930700Z"
    }
   },
   "outputs": [
    {
     "data": {
      "text/plain": [
       "tensor(5., dtype=torch.float16)"
      ]
     },
     "execution_count": 21,
     "metadata": {},
     "output_type": "execute_result"
    }
   ],
   "execution_count": 21
  },
  {
   "cell_type": "markdown",
   "source": [
    "**[4.5]** Print the last element of the first dimension of `matrix1`"
   ],
   "metadata": {
    "id": "WKSy72imiyk2"
   }
  },
  {
   "cell_type": "code",
   "source": [
    "# Placeholder for student's code"
   ],
   "metadata": {
    "id": "2xPFRxb_iypt"
   },
   "execution_count": null,
   "outputs": []
  },
  {
   "cell_type": "code",
   "source": [
    "# Solution\n",
    "matrix1[0][-1:]"
   ],
   "metadata": {
    "colab": {
     "base_uri": "https://localhost:8080/"
    },
    "id": "qE-KISlmM1rU",
    "executionInfo": {
     "status": "ok",
     "timestamp": 1738293386068,
     "user_tz": -660,
     "elapsed": 2,
     "user": {
      "displayName": "William S.",
      "userId": "16708966449686968459"
     }
    },
    "outputId": "fe494e62-9e5f-44a2-cb76-e99c56594524",
    "ExecuteTime": {
     "end_time": "2025-02-23T07:54:54.257325Z",
     "start_time": "2025-02-23T07:54:54.254267Z"
    }
   },
   "outputs": [
    {
     "data": {
      "text/plain": [
       "tensor([2.], dtype=torch.float16)"
      ]
     },
     "execution_count": 22,
     "metadata": {},
     "output_type": "execute_result"
    }
   ],
   "execution_count": 22
  },
  {
   "cell_type": "markdown",
   "source": [
    "### 5.   Create Tensors"
   ],
   "metadata": {
    "id": "Tl4o8P4sgM3f"
   }
  },
  {
   "cell_type": "markdown",
   "source": [
    "**[5.1]** Create a tensor called `tensor1` of shape (3, 2, 5) that will have sequential integers from 0 to 29 as values"
   ],
   "metadata": {
    "id": "V54hm2Fyj3dM"
   }
  },
  {
   "cell_type": "code",
   "source": [
    "# Placeholder for student's code"
   ],
   "metadata": {
    "id": "WgH52irjj2u8"
   },
   "execution_count": null,
   "outputs": []
  },
  {
   "cell_type": "code",
   "source": [
    "# Solution\n",
    "tensor1 = torch.tensor([\n",
    "  [[0, 1, 2, 3, 4],\n",
    "   [5, 6, 7, 8, 9]],\n",
    "  [[10, 11, 12, 13, 14],\n",
    "   [15, 16, 17, 18, 19]],\n",
    "  [[20, 21, 22, 23, 24],\n",
    "   [25, 26, 27, 28, 29]],])\n",
    "\n",
    "tensor1"
   ],
   "metadata": {
    "colab": {
     "base_uri": "https://localhost:8080/"
    },
    "id": "MfTg7V5JM_y9",
    "executionInfo": {
     "status": "ok",
     "timestamp": 1738293388361,
     "user_tz": -660,
     "elapsed": 302,
     "user": {
      "displayName": "William S.",
      "userId": "16708966449686968459"
     }
    },
    "outputId": "1897ff92-bb31-4334-e2aa-6491e76c2eeb",
    "ExecuteTime": {
     "end_time": "2025-02-23T07:55:00.346959Z",
     "start_time": "2025-02-23T07:55:00.343398Z"
    }
   },
   "outputs": [
    {
     "data": {
      "text/plain": [
       "tensor([[[ 0,  1,  2,  3,  4],\n",
       "         [ 5,  6,  7,  8,  9]],\n",
       "\n",
       "        [[10, 11, 12, 13, 14],\n",
       "         [15, 16, 17, 18, 19]],\n",
       "\n",
       "        [[20, 21, 22, 23, 24],\n",
       "         [25, 26, 27, 28, 29]]])"
      ]
     },
     "execution_count": 23,
     "metadata": {},
     "output_type": "execute_result"
    }
   ],
   "execution_count": 23
  },
  {
   "cell_type": "markdown",
   "source": [
    "**[5.2]** Print the dimensions and rank of `tensor1`"
   ],
   "metadata": {
    "id": "G-8yMooqkSf4"
   }
  },
  {
   "cell_type": "code",
   "source": [
    "# Placeholder for student's code"
   ],
   "metadata": {
    "id": "2lX4rNAkkRjP"
   },
   "execution_count": null,
   "outputs": []
  },
  {
   "cell_type": "code",
   "source": [
    "# Solution\n",
    "print(tensor1.shape)\n",
    "print(tensor1.ndim)"
   ],
   "metadata": {
    "colab": {
     "base_uri": "https://localhost:8080/"
    },
    "id": "1JrJRe4wNENx",
    "executionInfo": {
     "status": "ok",
     "timestamp": 1738293390236,
     "user_tz": -660,
     "elapsed": 305,
     "user": {
      "displayName": "William S.",
      "userId": "16708966449686968459"
     }
    },
    "outputId": "22920fc5-55a5-41d7-8361-62c35e712b2c",
    "ExecuteTime": {
     "end_time": "2025-02-23T07:55:04.096447Z",
     "start_time": "2025-02-23T07:55:04.094726Z"
    }
   },
   "outputs": [
    {
     "name": "stdout",
     "output_type": "stream",
     "text": [
      "torch.Size([3, 2, 5])\n",
      "3\n"
     ]
    }
   ],
   "execution_count": 24
  },
  {
   "cell_type": "markdown",
   "source": [
    "**[5.3]** Print the first dimension of `tensor1`"
   ],
   "metadata": {
    "id": "t4jTeRhlkWJN"
   }
  },
  {
   "cell_type": "code",
   "source": [
    "# Placeholder for student's code"
   ],
   "metadata": {
    "id": "e7A6NRkbkWQI"
   },
   "execution_count": null,
   "outputs": []
  },
  {
   "cell_type": "code",
   "source": [
    "# Solution\n",
    "tensor1[0]"
   ],
   "metadata": {
    "colab": {
     "base_uri": "https://localhost:8080/"
    },
    "id": "KNySWdErNEha",
    "executionInfo": {
     "status": "ok",
     "timestamp": 1738293391254,
     "user_tz": -660,
     "elapsed": 1,
     "user": {
      "displayName": "William S.",
      "userId": "16708966449686968459"
     }
    },
    "outputId": "aa509eec-c5e4-4013-98dd-82494bb85d52",
    "ExecuteTime": {
     "end_time": "2025-02-23T07:55:09.836653Z",
     "start_time": "2025-02-23T07:55:09.833925Z"
    }
   },
   "outputs": [
    {
     "data": {
      "text/plain": [
       "tensor([[0, 1, 2, 3, 4],\n",
       "        [5, 6, 7, 8, 9]])"
      ]
     },
     "execution_count": 25,
     "metadata": {},
     "output_type": "execute_result"
    }
   ],
   "execution_count": 25
  },
  {
   "cell_type": "markdown",
   "source": [
    "**[5.4]** Print the second element of the first dimension of `tensor1`"
   ],
   "metadata": {
    "id": "C1QX5plqkg24"
   }
  },
  {
   "cell_type": "code",
   "source": [
    "# Placeholder for student's code"
   ],
   "metadata": {
    "id": "GQLNvJi9kg9A"
   },
   "execution_count": null,
   "outputs": []
  },
  {
   "cell_type": "code",
   "source": [
    "# Solution\n",
    "tensor1[0][1]"
   ],
   "metadata": {
    "colab": {
     "base_uri": "https://localhost:8080/"
    },
    "id": "ygf4QIK0NM2F",
    "executionInfo": {
     "status": "ok",
     "timestamp": 1738293392866,
     "user_tz": -660,
     "elapsed": 327,
     "user": {
      "displayName": "William S.",
      "userId": "16708966449686968459"
     }
    },
    "outputId": "07748700-e90a-4dff-e068-fde64adb9cc5",
    "ExecuteTime": {
     "end_time": "2025-02-23T07:55:22.446930Z",
     "start_time": "2025-02-23T07:55:22.444128Z"
    }
   },
   "outputs": [
    {
     "data": {
      "text/plain": [
       "tensor([5, 6, 7, 8, 9])"
      ]
     },
     "execution_count": 26,
     "metadata": {},
     "output_type": "execute_result"
    }
   ],
   "execution_count": 26
  },
  {
   "cell_type": "markdown",
   "source": [
    "**[5.5]** Print the values from the forth index of the second element of the first dimension of `tensor1`"
   ],
   "metadata": {
    "id": "PR2e-djQkorR"
   }
  },
  {
   "cell_type": "code",
   "source": [
    "# Placeholder for student's code"
   ],
   "metadata": {
    "id": "DvvU29HvkowU"
   },
   "execution_count": null,
   "outputs": []
  },
  {
   "cell_type": "code",
   "source": [
    "# Solution\n",
    "tensor1[0][1][3:]"
   ],
   "metadata": {
    "colab": {
     "base_uri": "https://localhost:8080/"
    },
    "id": "MOrHi4XkNNHj",
    "executionInfo": {
     "status": "ok",
     "timestamp": 1738293393999,
     "user_tz": -660,
     "elapsed": 3,
     "user": {
      "displayName": "William S.",
      "userId": "16708966449686968459"
     }
    },
    "outputId": "db894772-6038-49cd-d929-8c50bc523284",
    "ExecuteTime": {
     "end_time": "2025-02-23T07:55:25.852990Z",
     "start_time": "2025-02-23T07:55:25.850360Z"
    }
   },
   "outputs": [
    {
     "data": {
      "text/plain": [
       "tensor([8, 9])"
      ]
     },
     "execution_count": 27,
     "metadata": {},
     "output_type": "execute_result"
    }
   ],
   "execution_count": 27
  },
  {
   "cell_type": "markdown",
   "source": [
    "### 6.   Compatibility with Numpy"
   ],
   "metadata": {
    "id": "FUx0QqkFgQIA"
   }
  },
  {
   "cell_type": "markdown",
   "source": [
    "**[6.1]** Convert `tensor1` to a numpy array"
   ],
   "metadata": {
    "id": "HZa44jbTkwkC"
   }
  },
  {
   "cell_type": "code",
   "source": [
    "# Placeholder for student's code"
   ],
   "metadata": {
    "id": "Z1LISU44kw6c"
   },
   "execution_count": null,
   "outputs": []
  },
  {
   "cell_type": "code",
   "source": [
    "# Solution\n",
    "np.array(tensor1)"
   ],
   "metadata": {
    "colab": {
     "base_uri": "https://localhost:8080/"
    },
    "id": "2i87PaBENkwa",
    "executionInfo": {
     "status": "ok",
     "timestamp": 1738293395566,
     "user_tz": -660,
     "elapsed": 298,
     "user": {
      "displayName": "William S.",
      "userId": "16708966449686968459"
     }
    },
    "outputId": "3b73121d-d553-4339-9c3a-40d4fbef29be",
    "ExecuteTime": {
     "end_time": "2025-02-23T07:55:29.325051Z",
     "start_time": "2025-02-23T07:55:29.322117Z"
    }
   },
   "outputs": [
    {
     "name": "stderr",
     "output_type": "stream",
     "text": [
      "/var/folders/36/vqy4pb2965g5pfknmwnsvm8r0000gn/T/ipykernel_13107/3377754521.py:2: DeprecationWarning: __array__ implementation doesn't accept a copy keyword, so passing copy=False failed. __array__ must implement 'dtype' and 'copy' keyword arguments. To learn more, see the migration guide https://numpy.org/devdocs/numpy_2_0_migration_guide.html#adapting-to-changes-in-the-copy-keyword\n",
      "  np.array(tensor1)\n"
     ]
    },
    {
     "data": {
      "text/plain": [
       "array([[[ 0,  1,  2,  3,  4],\n",
       "        [ 5,  6,  7,  8,  9]],\n",
       "\n",
       "       [[10, 11, 12, 13, 14],\n",
       "        [15, 16, 17, 18, 19]],\n",
       "\n",
       "       [[20, 21, 22, 23, 24],\n",
       "        [25, 26, 27, 28, 29]]])"
      ]
     },
     "execution_count": 28,
     "metadata": {},
     "output_type": "execute_result"
    }
   ],
   "execution_count": 28
  },
  {
   "cell_type": "markdown",
   "source": [
    "**[6.2]** Convert `tensor1` to a numpy array using `.numpy()`"
   ],
   "metadata": {
    "id": "eXLQUmBCk1uN"
   }
  },
  {
   "cell_type": "code",
   "source": [
    "# Placeholder for student's code"
   ],
   "metadata": {
    "id": "rIBFTSuPk130"
   },
   "execution_count": null,
   "outputs": []
  },
  {
   "cell_type": "code",
   "source": [
    "# Solution\n",
    "tensor1.numpy()"
   ],
   "metadata": {
    "colab": {
     "base_uri": "https://localhost:8080/"
    },
    "id": "XZjnCqZZNTuJ",
    "executionInfo": {
     "status": "ok",
     "timestamp": 1738293396886,
     "user_tz": -660,
     "elapsed": 307,
     "user": {
      "displayName": "William S.",
      "userId": "16708966449686968459"
     }
    },
    "outputId": "9930ff9f-d004-4cd9-db89-07c64f250271",
    "ExecuteTime": {
     "end_time": "2025-02-23T07:55:36.056294Z",
     "start_time": "2025-02-23T07:55:36.053931Z"
    }
   },
   "outputs": [
    {
     "data": {
      "text/plain": [
       "array([[[ 0,  1,  2,  3,  4],\n",
       "        [ 5,  6,  7,  8,  9]],\n",
       "\n",
       "       [[10, 11, 12, 13, 14],\n",
       "        [15, 16, 17, 18, 19]],\n",
       "\n",
       "       [[20, 21, 22, 23, 24],\n",
       "        [25, 26, 27, 28, 29]]])"
      ]
     },
     "execution_count": 29,
     "metadata": {},
     "output_type": "execute_result"
    }
   ],
   "execution_count": 29
  },
  {
   "cell_type": "markdown",
   "source": [
    "### 7.   Reshape Tensors"
   ],
   "metadata": {
    "id": "0PVRhzYcgVRY"
   }
  },
  {
   "cell_type": "markdown",
   "source": [
    "**[7.1]** Convert the dimensions of `tensor1` to (2, 15)"
   ],
   "metadata": {
    "id": "2ypRmgxKldsg"
   }
  },
  {
   "cell_type": "code",
   "source": [
    "# Placeholder for student's code"
   ],
   "metadata": {
    "id": "LxIbHpa_lGA2"
   },
   "execution_count": null,
   "outputs": []
  },
  {
   "cell_type": "code",
   "source": [
    "# Solution\n",
    "#torch.tensor(tensor1, shape(2, 15))\n",
    "torch.reshape(tensor1,(2,15))"
   ],
   "metadata": {
    "colab": {
     "base_uri": "https://localhost:8080/"
    },
    "id": "2rXpOfdGONvh",
    "executionInfo": {
     "status": "ok",
     "timestamp": 1738293398880,
     "user_tz": -660,
     "elapsed": 296,
     "user": {
      "displayName": "William S.",
      "userId": "16708966449686968459"
     }
    },
    "outputId": "8afe1f6a-ddd7-40a2-fe8e-c5ad15c690c0",
    "ExecuteTime": {
     "end_time": "2025-02-23T07:55:39.518132Z",
     "start_time": "2025-02-23T07:55:39.514857Z"
    }
   },
   "outputs": [
    {
     "data": {
      "text/plain": [
       "tensor([[ 0,  1,  2,  3,  4,  5,  6,  7,  8,  9, 10, 11, 12, 13, 14],\n",
       "        [15, 16, 17, 18, 19, 20, 21, 22, 23, 24, 25, 26, 27, 28, 29]])"
      ]
     },
     "execution_count": 30,
     "metadata": {},
     "output_type": "execute_result"
    }
   ],
   "execution_count": 30
  },
  {
   "cell_type": "markdown",
   "source": [
    "**[7.2]** Convert the dimensions of `tensor1` to (3, 10)"
   ],
   "metadata": {
    "id": "2VuDPSnRlf2B"
   }
  },
  {
   "cell_type": "code",
   "source": [
    "# Placeholder for student's code"
   ],
   "metadata": {
    "id": "eeqqyK9tk-EB"
   },
   "execution_count": null,
   "outputs": []
  },
  {
   "cell_type": "code",
   "source": [
    "# Solution\n",
    "torch.reshape(tensor1,(3,10))"
   ],
   "metadata": {
    "colab": {
     "base_uri": "https://localhost:8080/"
    },
    "id": "sd2-YVj4OZZV",
    "executionInfo": {
     "status": "ok",
     "timestamp": 1738293596829,
     "user_tz": -660,
     "elapsed": 300,
     "user": {
      "displayName": "William S.",
      "userId": "16708966449686968459"
     }
    },
    "outputId": "9495b125-1300-4f4c-b625-eef4802839b2",
    "ExecuteTime": {
     "end_time": "2025-02-23T07:56:04.338984Z",
     "start_time": "2025-02-23T07:56:04.335938Z"
    }
   },
   "outputs": [
    {
     "data": {
      "text/plain": [
       "tensor([[ 0,  1,  2,  3,  4,  5,  6,  7,  8,  9],\n",
       "        [10, 11, 12, 13, 14, 15, 16, 17, 18, 19],\n",
       "        [20, 21, 22, 23, 24, 25, 26, 27, 28, 29]])"
      ]
     },
     "execution_count": 31,
     "metadata": {},
     "output_type": "execute_result"
    }
   ],
   "execution_count": 31
  },
  {
   "cell_type": "markdown",
   "source": [
    "**[7.3]** Convert the dimensions of `tensor1` to (3, 1, 10)"
   ],
   "metadata": {
    "id": "-tkY9DislgcV"
   }
  },
  {
   "cell_type": "code",
   "source": [
    "# Placeholder for student's code"
   ],
   "metadata": {
    "id": "w95fguWClgl-"
   },
   "execution_count": null,
   "outputs": []
  },
  {
   "cell_type": "code",
   "source": [
    "# Solution\n",
    "torch.reshape(tensor1,(3,1,10))"
   ],
   "metadata": {
    "id": "n_zNf_FBWA_X",
    "colab": {
     "base_uri": "https://localhost:8080/"
    },
    "executionInfo": {
     "status": "ok",
     "timestamp": 1738293407701,
     "user_tz": -660,
     "elapsed": 330,
     "user": {
      "displayName": "William S.",
      "userId": "16708966449686968459"
     }
    },
    "outputId": "f69884cd-39d5-41ac-d1f5-fffed4b1bd8b",
    "ExecuteTime": {
     "end_time": "2025-02-23T07:56:07.742850Z",
     "start_time": "2025-02-23T07:56:07.739501Z"
    }
   },
   "outputs": [
    {
     "data": {
      "text/plain": [
       "tensor([[[ 0,  1,  2,  3,  4,  5,  6,  7,  8,  9]],\n",
       "\n",
       "        [[10, 11, 12, 13, 14, 15, 16, 17, 18, 19]],\n",
       "\n",
       "        [[20, 21, 22, 23, 24, 25, 26, 27, 28, 29]]])"
      ]
     },
     "execution_count": 32,
     "metadata": {},
     "output_type": "execute_result"
    }
   ],
   "execution_count": 32
  },
  {
   "cell_type": "markdown",
   "source": [
    "**[7.4]** Flatten `tensor1`"
   ],
   "metadata": {
    "id": "8a_DqJI_lhPt"
   }
  },
  {
   "cell_type": "code",
   "source": [
    "# Placeholder for student's code"
   ],
   "metadata": {
    "id": "QKQ7aHaglhWt"
   },
   "execution_count": null,
   "outputs": []
  },
  {
   "cell_type": "code",
   "source": [
    "# Solution\n",
    "torch.flatten(tensor1)"
   ],
   "metadata": {
    "id": "MYpIx3ELWG9F",
    "colab": {
     "base_uri": "https://localhost:8080/"
    },
    "executionInfo": {
     "status": "ok",
     "timestamp": 1738293618503,
     "user_tz": -660,
     "elapsed": 335,
     "user": {
      "displayName": "William S.",
      "userId": "16708966449686968459"
     }
    },
    "outputId": "3455b3a1-7da5-4f41-8e16-a9d01e4a831c",
    "ExecuteTime": {
     "end_time": "2025-02-23T07:56:52.333922Z",
     "start_time": "2025-02-23T07:56:52.331078Z"
    }
   },
   "outputs": [
    {
     "data": {
      "text/plain": [
       "tensor([ 0,  1,  2,  3,  4,  5,  6,  7,  8,  9, 10, 11, 12, 13, 14, 15, 16, 17,\n",
       "        18, 19, 20, 21, 22, 23, 24, 25, 26, 27, 28, 29])"
      ]
     },
     "execution_count": 33,
     "metadata": {},
     "output_type": "execute_result"
    }
   ],
   "execution_count": 33
  }
 ]
}
