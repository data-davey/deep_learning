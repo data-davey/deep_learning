{
 "cells": [
  {
   "cell_type": "markdown",
   "metadata": {
    "id": "-rqHxEqHfMa4"
   },
   "source": [
    "# **Lab: PyTorch**"
   ]
  },
  {
   "cell_type": "markdown",
   "metadata": {
    "id": "TEEs02x8LIYO"
   },
   "source": [
    "## Exercise 3: Forward Propagation\n",
    "\n",
    "In this exercise, we will see how we can code a simple forward propagation process with PyTorch\n",
    "\n",
    "The steps are:\n",
    "1.   Create Data\n",
    "2.   Perform Forward Propagation\n"
   ]
  },
  {
   "cell_type": "markdown",
   "metadata": {
    "id": "alF7DeGFtpGf"
   },
   "source": [
    "## 1. Create Data"
   ]
  },
  {
   "cell_type": "markdown",
   "metadata": {
    "id": "uup-MVp7nHAz"
   },
   "source": [
    "**[1.1]** Import Torch and numpy packages\n"
   ]
  },
  {
   "cell_type": "code",
   "execution_count": null,
   "metadata": {
    "id": "fF8KyptonHDt"
   },
   "outputs": [],
   "source": [
    "# Placeholder for student's code"
   ]
  },
  {
   "cell_type": "code",
   "execution_count": 1,
   "metadata": {
    "id": "KmpLM-i5JRzx"
   },
   "outputs": [],
   "source": [
    "# Solution\n",
    "import torch\n",
    "import numpy as np"
   ]
  },
  {
   "cell_type": "markdown",
   "metadata": {
    "id": "cBFEqb7enH3H"
   },
   "source": [
    "**[1.2]** Set the seed for generating numbers using Torch\n"
   ]
  },
  {
   "cell_type": "code",
   "execution_count": null,
   "metadata": {
    "id": "e-MuJHLSnH7X"
   },
   "outputs": [],
   "source": [
    "# Placeholder for student's code"
   ]
  },
  {
   "cell_type": "code",
   "execution_count": 2,
   "metadata": {
    "colab": {
     "base_uri": "https://localhost:8080/"
    },
    "executionInfo": {
     "elapsed": 319,
     "status": "ok",
     "timestamp": 1708421908887,
     "user": {
      "displayName": "Dr. Mir Md. Jahangir Kabir",
      "userId": "16962371640275108928"
     },
     "user_tz": -660
    },
    "id": "JRpxg6Hhc2q7",
    "outputId": "5a3c4a85-a179-4a36-a5ab-cb4571a11c48"
   },
   "outputs": [
    {
     "data": {
      "text/plain": [
       "<torch._C.Generator at 0x114b46730>"
      ]
     },
     "execution_count": 2,
     "metadata": {},
     "output_type": "execute_result"
    }
   ],
   "source": [
    "# Solution\n",
    "torch.manual_seed(42)"
   ]
  },
  {
   "cell_type": "markdown",
   "metadata": {
    "id": "-QLJIO-XnIhS"
   },
   "source": [
    "**[1.3]** Create a variable called `x` that contains 10 data points that linearly spaced between 0 and 10\n"
   ]
  },
  {
   "cell_type": "code",
   "execution_count": null,
   "metadata": {
    "id": "wFEBxLGfuoBh"
   },
   "outputs": [],
   "source": [
    "# Placeholder for student's code"
   ]
  },
  {
   "cell_type": "code",
   "execution_count": 3,
   "metadata": {
    "colab": {
     "base_uri": "https://localhost:8080/"
    },
    "executionInfo": {
     "elapsed": 752,
     "status": "ok",
     "timestamp": 1708422007790,
     "user": {
      "displayName": "Dr. Mir Md. Jahangir Kabir",
      "userId": "16962371640275108928"
     },
     "user_tz": -660
    },
    "id": "f1MOPabHuhly",
    "outputId": "17255f7a-ffbb-4797-ac10-5dc645816fdf"
   },
   "outputs": [
    {
     "data": {
      "text/plain": [
       "array([ 0.        ,  1.11111111,  2.22222222,  3.33333333,  4.44444444,\n",
       "        5.55555556,  6.66666667,  7.77777778,  8.88888889, 10.        ])"
      ]
     },
     "execution_count": 3,
     "metadata": {},
     "output_type": "execute_result"
    }
   ],
   "source": [
    "# Solution\n",
    "x = np.linspace(0,10,10)\n",
    "x"
   ]
  },
  {
   "cell_type": "markdown",
   "metadata": {
    "id": "xnoCuGgvuokg"
   },
   "source": [
    "**[1.4]** Create a variable called `x_data` that contains the values of `x` plus a random value between -1.5 and 1.5\n"
   ]
  },
  {
   "cell_type": "code",
   "execution_count": null,
   "metadata": {
    "id": "FkaEyCbqnIma"
   },
   "outputs": [],
   "source": [
    "# Placeholder for student's code"
   ]
  },
  {
   "cell_type": "code",
   "execution_count": 4,
   "metadata": {
    "colab": {
     "base_uri": "https://localhost:8080/"
    },
    "executionInfo": {
     "elapsed": 979,
     "status": "ok",
     "timestamp": 1708422057206,
     "user": {
      "displayName": "Dr. Mir Md. Jahangir Kabir",
      "userId": "16962371640275108928"
     },
     "user_tz": -660
    },
    "id": "Fk0fBMfea4It",
    "outputId": "67ef399d-d131-4ac1-a935-32219d647bd0"
   },
   "outputs": [
    {
     "data": {
      "text/plain": [
       "array([ 1.15080313,  1.71472437,  3.10703682,  2.43275212,  4.4678726 ,\n",
       "        4.12121749,  6.8581679 ,  8.50799499,  8.43579467, 11.43885101])"
      ]
     },
     "execution_count": 4,
     "metadata": {},
     "output_type": "execute_result"
    }
   ],
   "source": [
    "# Solution\n",
    "x_data = x + np.random.uniform(-1.5,1.5,10)\n",
    "x_data"
   ]
  },
  {
   "cell_type": "markdown",
   "metadata": {
    "id": "koKw538cnJCV"
   },
   "source": [
    "**[1.5]** Create a variable called `y_label` that contains the values of `x` plus a random value between -1.5 and 1.5"
   ]
  },
  {
   "cell_type": "code",
   "execution_count": null,
   "metadata": {
    "id": "_EbXIkXqnJGq"
   },
   "outputs": [],
   "source": [
    "# Placeholder for student's code"
   ]
  },
  {
   "cell_type": "code",
   "execution_count": 5,
   "metadata": {
    "colab": {
     "base_uri": "https://localhost:8080/"
    },
    "executionInfo": {
     "elapsed": 308,
     "status": "ok",
     "timestamp": 1708422081915,
     "user": {
      "displayName": "Dr. Mir Md. Jahangir Kabir",
      "userId": "16962371640275108928"
     },
     "user_tz": -660
    },
    "id": "gpFo80aPb0oS",
    "outputId": "3f0cf10e-45e0-49d0-fac3-3294fe25cba4"
   },
   "outputs": [
    {
     "data": {
      "text/plain": [
       "array([-0.02925613,  0.9208917 ,  0.80300222,  3.84567694,  4.62673562,\n",
       "        4.84493458,  5.75838055,  8.00891772,  7.46300346, 10.96486744])"
      ]
     },
     "execution_count": 5,
     "metadata": {},
     "output_type": "execute_result"
    }
   ],
   "source": [
    "# Solution\n",
    "y_label = x + np.random.uniform(-1.5, 1.5, 10)\n",
    "y_label"
   ]
  },
  {
   "cell_type": "markdown",
   "metadata": {
    "id": "MtYiK40CnJol"
   },
   "source": [
    "**[1.6]** Import matplotlib package"
   ]
  },
  {
   "cell_type": "code",
   "execution_count": null,
   "metadata": {
    "id": "9cpCpBOTnJtZ"
   },
   "outputs": [],
   "source": [
    "# Placeholder for student's code"
   ]
  },
  {
   "cell_type": "code",
   "execution_count": 6,
   "metadata": {
    "id": "NlnwIY-QvIlP"
   },
   "outputs": [],
   "source": [
    "# Solution\n",
    "import matplotlib.pyplot as plt\n",
    "%matplotlib inline"
   ]
  },
  {
   "cell_type": "markdown",
   "metadata": {
    "id": "I3MwymoAvHWb"
   },
   "source": [
    "**[1.7]** Display a scatter plot with matplotlib showing `x_data` as x-axis and `y_label` as y-axis"
   ]
  },
  {
   "cell_type": "code",
   "execution_count": null,
   "metadata": {
    "id": "CnXAbhm0vHbe"
   },
   "outputs": [],
   "source": [
    "# Placeholder for student's code"
   ]
  },
  {
   "cell_type": "code",
   "execution_count": 7,
   "metadata": {
    "colab": {
     "base_uri": "https://localhost:8080/",
     "height": 447
    },
    "executionInfo": {
     "elapsed": 841,
     "status": "ok",
     "timestamp": 1708422149909,
     "user": {
      "displayName": "Dr. Mir Md. Jahangir Kabir",
      "userId": "16962371640275108928"
     },
     "user_tz": -660
    },
    "id": "iU6-GJjNdEAL",
    "outputId": "8ba51f1e-3257-43bc-d492-a0b9523ad79c"
   },
   "outputs": [
    {
     "data": {
      "text/plain": [
       "[<matplotlib.lines.Line2D at 0x125ccd990>]"
      ]
     },
     "execution_count": 7,
     "metadata": {},
     "output_type": "execute_result"
    },
    {
     "data": {
      "image/png": "[encoded data removed]",
      "text/plain": [
       "<Figure size 640x480 with 1 Axes>"
      ]
     },
     "metadata": {},
     "output_type": "display_data"
    }
   ],
   "source": [
    "# Solution\n",
    "plt.plot(x_data, y_label,'*')"
   ]
  },
  {
   "cell_type": "markdown",
   "metadata": {
    "id": "dEQBiMp4tt45"
   },
   "source": [
    "## 2. Perform Forward Propagation"
   ]
  },
  {
   "cell_type": "markdown",
   "metadata": {
    "id": "ECgKIy4bnKsj"
   },
   "source": [
    "**[2.1]** Create 2 tensors variables called `m` and `b` that will contain respectively the values 0.2 and 0.98"
   ]
  },
  {
   "cell_type": "code",
   "execution_count": null,
   "metadata": {
    "id": "j_AKN6t1nKxm"
   },
   "outputs": [],
   "source": [
    "# Placeholder for student's code"
   ]
  },
  {
   "cell_type": "code",
   "execution_count": 8,
   "metadata": {
    "id": "8ASo0umXdHZo"
   },
   "outputs": [],
   "source": [
    "# Solution\n",
    "m = torch.tensor (0.2)\n",
    "b = torch.tensor (0.98)"
   ]
  },
  {
   "cell_type": "markdown",
   "metadata": {
    "id": "aETkZQX-nLR1"
   },
   "source": [
    "**[2.2]** Create a variable called `x_test` that contains 10 data points that linearly spaced between -1 and 11"
   ]
  },
  {
   "cell_type": "code",
   "execution_count": null,
   "metadata": {
    "id": "cRk3uPYJnLWS"
   },
   "outputs": [],
   "source": [
    "# Placeholder for student's code"
   ]
  },
  {
   "cell_type": "code",
   "execution_count": 9,
   "metadata": {
    "colab": {
     "base_uri": "https://localhost:8080/"
    },
    "executionInfo": {
     "elapsed": 297,
     "status": "ok",
     "timestamp": 1708422237595,
     "user": {
      "displayName": "Dr. Mir Md. Jahangir Kabir",
      "userId": "16962371640275108928"
     },
     "user_tz": -660
    },
    "id": "PNw4UKcLdS27",
    "outputId": "b331234c-2e68-4ce0-c814-bad53c4171f1"
   },
   "outputs": [
    {
     "data": {
      "text/plain": [
       "array([-1.        ,  0.33333333,  1.66666667,  3.        ,  4.33333333,\n",
       "        5.66666667,  7.        ,  8.33333333,  9.66666667, 11.        ])"
      ]
     },
     "execution_count": 9,
     "metadata": {},
     "output_type": "execute_result"
    }
   ],
   "source": [
    "x_test = np.linspace(-1, 11, 10)\n",
    "x_test"
   ]
  },
  {
   "cell_type": "markdown",
   "metadata": {
    "id": "LpFlFTjQnL4l"
   },
   "source": [
    "**[2.3]** Multiply `m` with `x_test` and add `b`. Save the result to a variable called `y_preds`\n"
   ]
  },
  {
   "cell_type": "code",
   "execution_count": null,
   "metadata": {
    "id": "3HMTgldBnL9N"
   },
   "outputs": [],
   "source": [
    "# Placeholder for student's code"
   ]
  },
  {
   "cell_type": "code",
   "execution_count": 10,
   "metadata": {
    "id": "M4trQgwJeIdn"
   },
   "outputs": [
    {
     "name": "stderr",
     "output_type": "stream",
     "text": [
      "/var/folders/36/vqy4pb2965g5pfknmwnsvm8r0000gn/T/ipykernel_14872/2688932293.py:2: DeprecationWarning: __array_wrap__ must accept context and return_scalar arguments (positionally) in the future. (Deprecated NumPy 2.0)\n",
      "  y_preds = m * x_test + b\n"
     ]
    }
   ],
   "source": [
    "# Solution\n",
    "y_preds = m * x_test + b"
   ]
  },
  {
   "cell_type": "markdown",
   "metadata": {
    "id": "1cKCGn8MnMbw"
   },
   "source": [
    "**[2.4]** Display a scatter plot with matplotlib showing `x_data` as x-axis and `y_label` as y-axis and a line chart with `x_test` as x-axis and `y_preds` as y-axis"
   ]
  },
  {
   "cell_type": "code",
   "execution_count": null,
   "metadata": {
    "id": "KulFKwvSnMgQ"
   },
   "outputs": [],
   "source": [
    "# Placeholder for student's code"
   ]
  },
  {
   "cell_type": "code",
   "execution_count": 11,
   "metadata": {
    "colab": {
     "base_uri": "https://localhost:8080/",
     "height": 447
    },
    "executionInfo": {
     "elapsed": 332,
     "status": "ok",
     "timestamp": 1708422364967,
     "user": {
      "displayName": "Dr. Mir Md. Jahangir Kabir",
      "userId": "16962371640275108928"
     },
     "user_tz": -660
    },
    "id": "NjHM36Jjdrs7",
    "outputId": "302041ce-4bf8-49ae-be52-e1374b4fc530"
   },
   "outputs": [
    {
     "data": {
      "text/plain": [
       "[<matplotlib.lines.Line2D at 0x125dc9750>]"
      ]
     },
     "execution_count": 11,
     "metadata": {},
     "output_type": "execute_result"
    },
    {
     "data": {
      "image/png": "[encoded data removed]",
      "text/plain": [
       "<Figure size 640x480 with 1 Axes>"
      ]
     },
     "metadata": {},
     "output_type": "display_data"
    }
   ],
   "source": [
    "# Solution\n",
    "plt.plot(x_test, y_preds,'y')\n",
    "plt.plot(x_data, y_label,'*')"
   ]
  }
 ],
 "metadata": {
  "colab": {
   "provenance": [
    {
     "file_id": "1dI8mmOKv2uv0l85gDfIzCMFBrOtfI8W9",
     "timestamp": 1725873442372
    }
   ]
  },
  "kernelspec": {
   "display_name": ".venv",
   "language": "python",
   "name": "python3"
  },
  "language_info": {
   "codemirror_mode": {
    "name": "ipython",
    "version": 3
   },
   "file_extension": ".py",
   "mimetype": "text/x-python",
   "name": "python",
   "nbconvert_exporter": "python",
   "pygments_lexer": "ipython3",
   "version": "3.11.10"
  }
 },
 "nbformat": 4,
 "nbformat_minor": 0
}
